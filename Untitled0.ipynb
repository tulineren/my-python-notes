{
  "nbformat": 4,
  "nbformat_minor": 0,
  "metadata": {
    "colab": {
      "provenance": []
    },
    "kernelspec": {
      "name": "python3",
      "display_name": "Python 3"
    },
    "language_info": {
      "name": "python"
    }
  },
  "cells": [
    {
      "cell_type": "markdown",
      "source": [
        "# **PYTHON**"
      ],
      "metadata": {
        "id": "UZkkMSErxJxk"
      }
    },
    {
      "cell_type": "code",
      "execution_count": null,
      "metadata": {
        "colab": {
          "base_uri": "https://localhost:8080/"
        },
        "id": "m-09kkHcSzaU",
        "outputId": "90cf330b-0e73-4051-bd06-c02f42716552"
      },
      "outputs": [
        {
          "output_type": "stream",
          "name": "stdout",
          "text": [
            "Ali'nin evi\n"
          ]
        }
      ],
      "source": [
        "print(\"Ali'nin evi\")"
      ]
    },
    {
      "cell_type": "code",
      "source": [
        "print('Ali\\'nin evi') # \\(ters slash) kaçış karakteridir. kaçış karakterinden sonra gelen kesme işareti alelade bir işaret, stringi bitiren bir ifade değil."
      ],
      "metadata": {
        "id": "RtUDYgOjL4Qo",
        "colab": {
          "base_uri": "https://localhost:8080/"
        },
        "outputId": "e9a101b8-ea38-4cce-da45-67ae033d7fc8"
      },
      "execution_count": null,
      "outputs": [
        {
          "output_type": "stream",
          "name": "stdout",
          "text": [
            "Ali'nin evi\n"
          ]
        }
      ]
    },
    {
      "cell_type": "code",
      "source": [
        "print(\"\"\"Merhaba\n",
        "Dünya\"\"\") #Çok satırlı metinleri 3 tırnak kullanarak yazabiliriz."
      ],
      "metadata": {
        "colab": {
          "base_uri": "https://localhost:8080/"
        },
        "id": "dS9H8aBaSNPs",
        "outputId": "c1ed2268-93e5-47ed-8fc6-a2898f1236c7"
      },
      "execution_count": null,
      "outputs": [
        {
          "output_type": "stream",
          "name": "stdout",
          "text": [
            "Merhaba\n",
            "Dünya\n"
          ]
        }
      ]
    },
    {
      "cell_type": "code",
      "source": [
        "print(\"Merhaba\\t\\tDünya\") # \\t tab(sekme) kelimeler arasında kaç boşluk olacağını ayarlar."
      ],
      "metadata": {
        "colab": {
          "base_uri": "https://localhost:8080/"
        },
        "id": "q9NOnKIQWZff",
        "outputId": "773ea97c-7559-4f88-f15e-b5fa57335cf7"
      },
      "execution_count": null,
      "outputs": [
        {
          "output_type": "stream",
          "name": "stdout",
          "text": [
            "Merhaba\t\tDünya\n"
          ]
        }
      ]
    },
    {
      "cell_type": "code",
      "source": [
        "print(\"Benim adım\",\"Ferhat Yılmaz\",\"Ben bir rapçiyim\", sep=\"=\")# sep= her bir parametre arasına \"=\" işareti koyar."
      ],
      "metadata": {
        "colab": {
          "base_uri": "https://localhost:8080/"
        },
        "id": "6OsKWhgOTfbA",
        "outputId": "45b86f70-a6bb-430b-93cc-97a3bb1c089d"
      },
      "execution_count": null,
      "outputs": [
        {
          "output_type": "stream",
          "name": "stdout",
          "text": [
            "Benim adım=Ferhat Yılmaz=Ben bir rapçiyim\n"
          ]
        }
      ]
    },
    {
      "cell_type": "code",
      "source": [
        "print(\"Mustafa\")# printleri alt alta yazınca çıktılar da alt alta yazıyor\n",
        "print(\"Kemal\")\n",
        "print(\"Atatürk\")"
      ],
      "metadata": {
        "colab": {
          "base_uri": "https://localhost:8080/"
        },
        "id": "jqCP9AGNURrg",
        "outputId": "c947d186-e807-4ff3-d768-063de567bd1a"
      },
      "execution_count": null,
      "outputs": [
        {
          "output_type": "stream",
          "name": "stdout",
          "text": [
            "Mustafa\n",
            "Kemal\n",
            "Atatürk\n"
          ]
        }
      ]
    },
    {
      "cell_type": "code",
      "source": [
        "print(\"Mustafa\",end=\"\")# end=\"\" komutu o satırla bir alttaki satırı yan yana yazar.\n",
        "print(\"Kemal\")\n",
        "print(\"Atatürk\")"
      ],
      "metadata": {
        "colab": {
          "base_uri": "https://localhost:8080/"
        },
        "id": "xMSDil10UvyB",
        "outputId": "9ab87737-99d3-48d2-eda8-68351a89d084"
      },
      "execution_count": null,
      "outputs": [
        {
          "output_type": "stream",
          "name": "stdout",
          "text": [
            "MustafaKemal\n",
            "Atatürk\n"
          ]
        }
      ]
    },
    {
      "cell_type": "markdown",
      "source": [
        "# **TEMEL VERİ TİPLERİ**"
      ],
      "metadata": {
        "id": "xNICwVE4xAln"
      }
    },
    {
      "cell_type": "code",
      "source": [
        "isim = \"İsmet İnönü\" #string"
      ],
      "metadata": {
        "id": "zf8MLgKKYYDN"
      },
      "execution_count": null,
      "outputs": []
    },
    {
      "cell_type": "code",
      "source": [
        "isim #değişkeni yazıp çağırabiliriz"
      ],
      "metadata": {
        "colab": {
          "base_uri": "https://localhost:8080/",
          "height": 35
        },
        "id": "bCovmPxpYgJ3",
        "outputId": "1c8d31bd-3547-4ab9-e5e7-a3847ea1c16f"
      },
      "execution_count": null,
      "outputs": [
        {
          "output_type": "execute_result",
          "data": {
            "text/plain": [
              "'İsmet İnönü'"
            ],
            "application/vnd.google.colaboratory.intrinsic+json": {
              "type": "string"
            }
          },
          "metadata": {},
          "execution_count": 9
        }
      ]
    },
    {
      "cell_type": "code",
      "source": [
        "print(isim) #bu şekilde de yazabiliriz"
      ],
      "metadata": {
        "colab": {
          "base_uri": "https://localhost:8080/"
        },
        "id": "ExrYIp_oYtc-",
        "outputId": "a98899b4-1832-45ae-bc48-e2efe7396de7"
      },
      "execution_count": null,
      "outputs": [
        {
          "output_type": "stream",
          "name": "stdout",
          "text": [
            "İsmet İnönü\n"
          ]
        }
      ]
    },
    {
      "cell_type": "code",
      "source": [
        "dogum = 2004 #integer\n",
        "print(type(dogum)) #type() veri tipini verir."
      ],
      "metadata": {
        "id": "gcxdtVAzZ9CB",
        "colab": {
          "base_uri": "https://localhost:8080/"
        },
        "outputId": "1a53843b-d1e1-4184-f97d-98f14283062e"
      },
      "execution_count": null,
      "outputs": [
        {
          "output_type": "stream",
          "name": "stdout",
          "text": [
            "<class 'int'>\n"
          ]
        }
      ]
    },
    {
      "cell_type": "code",
      "source": [
        "pi = 3.14 #float"
      ],
      "metadata": {
        "id": "bvd7njFiaSW0"
      },
      "execution_count": null,
      "outputs": []
    },
    {
      "cell_type": "code",
      "source": [
        "borc = None #yok, olmayan bir şey"
      ],
      "metadata": {
        "id": "KLgvfS1yaXWC"
      },
      "execution_count": null,
      "outputs": []
    },
    {
      "cell_type": "code",
      "source": [
        "evli = True #booling, mantıksal değerler"
      ],
      "metadata": {
        "id": "RoOIRkSPazUo"
      },
      "execution_count": null,
      "outputs": []
    },
    {
      "cell_type": "code",
      "source": [
        "cocuk = False #pythonda büyük harfla başlar."
      ],
      "metadata": {
        "id": "WRHX4oJ7a2rF"
      },
      "execution_count": null,
      "outputs": []
    },
    {
      "cell_type": "code",
      "source": [
        "rapciler = [\"Ezhel\",\"Uzi\",\"Killa\",\"Ceza\",1990,True] #Köşeli parantez liste oluşturmak için kullanılır. #Liste"
      ],
      "metadata": {
        "id": "YHNx5cYKa47u"
      },
      "execution_count": null,
      "outputs": []
    },
    {
      "cell_type": "code",
      "source": [
        "veriler = (\"admin\",1,\"11891\") #Tuple'lar (Tap()) normal parantezle oluşturulur. #tuple demet\n",
        "#Tuple, listeye göre daha güvenilir veri tipidir. Tuple dışarıdan manipülasyona açık değildir, liste dışardan manipülasyona açıktır."
      ],
      "metadata": {
        "id": "dqRNjrGscnN7"
      },
      "execution_count": null,
      "outputs": []
    },
    {
      "cell_type": "code",
      "source": [
        "sozluk = {\n",
        "    \"ball\":\"top\",\n",
        "    \"music\":\"müzik\",\n",
        "    \"sea\":\"deniz\"\n",
        "}#sözlük"
      ],
      "metadata": {
        "id": "2wD3nj1Pd8Tg"
      },
      "execution_count": null,
      "outputs": []
    },
    {
      "cell_type": "code",
      "source": [
        "kume={\"elma\",\"armut\",\"kiraz\"}#set küme"
      ],
      "metadata": {
        "id": "8HjYqpQefreG"
      },
      "execution_count": null,
      "outputs": []
    },
    {
      "cell_type": "markdown",
      "source": [
        "# **String ve METOTLARI**"
      ],
      "metadata": {
        "id": "Idn5N0QF3tXb"
      }
    },
    {
      "cell_type": "code",
      "source": [
        "mesaj=\"Merhaba HOŞGELDİNİZ\""
      ],
      "metadata": {
        "id": "dGM3kA_QgfIf"
      },
      "execution_count": null,
      "outputs": []
    },
    {
      "cell_type": "code",
      "source": [
        "mesaj"
      ],
      "metadata": {
        "colab": {
          "base_uri": "https://localhost:8080/",
          "height": 35
        },
        "id": "EWMAXNfCgk6J",
        "outputId": "5bdf6efa-dde5-4a65-c66d-1740bceb6a82"
      },
      "execution_count": null,
      "outputs": [
        {
          "output_type": "execute_result",
          "data": {
            "text/plain": [
              "'Merhaba HOŞGELDİNİZ'"
            ],
            "application/vnd.google.colaboratory.intrinsic+json": {
              "type": "string"
            }
          },
          "metadata": {},
          "execution_count": 8
        }
      ]
    },
    {
      "cell_type": "code",
      "source": [
        "print(mesaj)"
      ],
      "metadata": {
        "colab": {
          "base_uri": "https://localhost:8080/"
        },
        "id": "rUW5OFtBgn0B",
        "outputId": "dadcdb34-93d7-484c-e608-31a890699322"
      },
      "execution_count": null,
      "outputs": [
        {
          "output_type": "stream",
          "name": "stdout",
          "text": [
            "Merhaba HOŞGELDİNİZ\n"
          ]
        }
      ]
    },
    {
      "cell_type": "code",
      "source": [
        "mesaj[5] #köşeli parantez index anlamına gelir.Yani bir verinin belli bir parçasına ulaşmak için [] kullanılabilir.\n",
        "#Metinsel veriler pythonda karakter karakter kodlanmıştır.Burada 5.indeksi çağırdık."
      ],
      "metadata": {
        "colab": {
          "base_uri": "https://localhost:8080/",
          "height": 35
        },
        "id": "nBnQtfgSg5Y9",
        "outputId": "dcabf808-c7e7-4d9b-febf-9cf0be11cc55"
      },
      "execution_count": null,
      "outputs": [
        {
          "output_type": "execute_result",
          "data": {
            "text/plain": [
              "'b'"
            ],
            "application/vnd.google.colaboratory.intrinsic+json": {
              "type": "string"
            }
          },
          "metadata": {},
          "execution_count": 10
        }
      ]
    },
    {
      "cell_type": "code",
      "source": [
        "mesaj[-2]"
      ],
      "metadata": {
        "colab": {
          "base_uri": "https://localhost:8080/",
          "height": 35
        },
        "id": "76TVtoM3YcD9",
        "outputId": "59aaf3af-0097-4124-ff57-ef481634c2d5"
      },
      "execution_count": null,
      "outputs": [
        {
          "output_type": "execute_result",
          "data": {
            "text/plain": [
              "'İ'"
            ],
            "application/vnd.google.colaboratory.intrinsic+json": {
              "type": "string"
            }
          },
          "metadata": {},
          "execution_count": 15
        }
      ]
    },
    {
      "cell_type": "code",
      "source": [
        "mesaj[0:5] #0.indeksten 5.indekse kadar getirdi(5.indeks dahil değil)"
      ],
      "metadata": {
        "colab": {
          "base_uri": "https://localhost:8080/",
          "height": 35
        },
        "id": "GiQuQIlQkk4h",
        "outputId": "5b843225-f1a8-4b3c-b961-f58ad2f3d352"
      },
      "execution_count": null,
      "outputs": [
        {
          "output_type": "execute_result",
          "data": {
            "text/plain": [
              "'Merha'"
            ],
            "application/vnd.google.colaboratory.intrinsic+json": {
              "type": "string"
            }
          },
          "metadata": {},
          "execution_count": 34
        }
      ]
    },
    {
      "cell_type": "code",
      "source": [
        "mesaj[0:7:2] #0.indeksten 7.indekse kadar ilk karakterden 2 sonrasını getiriyor."
      ],
      "metadata": {
        "colab": {
          "base_uri": "https://localhost:8080/",
          "height": 35
        },
        "id": "DwFQKx3HlE-G",
        "outputId": "0e01f6da-eeb5-4a8b-9f2d-1dba51988e02"
      },
      "execution_count": null,
      "outputs": [
        {
          "output_type": "execute_result",
          "data": {
            "text/plain": [
              "'Mraa'"
            ],
            "application/vnd.google.colaboratory.intrinsic+json": {
              "type": "string"
            }
          },
          "metadata": {},
          "execution_count": 16
        }
      ]
    },
    {
      "cell_type": "code",
      "source": [
        "mesaj[::3] #Stringin en başı, en sonu ve 3 karakter atlayarak"
      ],
      "metadata": {
        "colab": {
          "base_uri": "https://localhost:8080/",
          "height": 35
        },
        "id": "bjQzhBJUYwCv",
        "outputId": "a9a100dd-2603-4735-a568-bdd1865083f4"
      },
      "execution_count": null,
      "outputs": [
        {
          "output_type": "execute_result",
          "data": {
            "text/plain": [
              "'MhaOEİZ'"
            ],
            "application/vnd.google.colaboratory.intrinsic+json": {
              "type": "string"
            }
          },
          "metadata": {},
          "execution_count": 17
        }
      ]
    },
    {
      "cell_type": "code",
      "source": [
        "mesaj[::-1] # Metin ifadesini tersten yazdırır."
      ],
      "metadata": {
        "colab": {
          "base_uri": "https://localhost:8080/",
          "height": 35
        },
        "id": "D_vqMAgNZX6S",
        "outputId": "8f765b6a-daf9-4019-b799-1efc7a39429c"
      },
      "execution_count": null,
      "outputs": [
        {
          "output_type": "execute_result",
          "data": {
            "text/plain": [
              "'ZİNİDLEGŞOH abahreM'"
            ],
            "application/vnd.google.colaboratory.intrinsic+json": {
              "type": "string"
            }
          },
          "metadata": {},
          "execution_count": 18
        }
      ]
    },
    {
      "cell_type": "code",
      "source": [
        "sayi = 1993"
      ],
      "metadata": {
        "id": "-ZKgmLrDln0z"
      },
      "execution_count": null,
      "outputs": []
    },
    {
      "cell_type": "code",
      "source": [
        "str(sayi) #int bir ifadeyi string ifadeye dönüştürdük"
      ],
      "metadata": {
        "colab": {
          "base_uri": "https://localhost:8080/",
          "height": 35
        },
        "id": "4OFNZzYTlqYz",
        "outputId": "3c62b434-512a-44fc-d622-56c6d321cc81"
      },
      "execution_count": null,
      "outputs": [
        {
          "output_type": "execute_result",
          "data": {
            "text/plain": [
              "'1993'"
            ],
            "application/vnd.google.colaboratory.intrinsic+json": {
              "type": "string"
            }
          },
          "metadata": {},
          "execution_count": 6
        }
      ]
    },
    {
      "cell_type": "code",
      "source": [
        "sayi[0] #int ifade olduğu için veriyi getirmiyor"
      ],
      "metadata": {
        "id": "UzRQWdNnmSde",
        "colab": {
          "base_uri": "https://localhost:8080/",
          "height": 141
        },
        "outputId": "4e778a0f-496f-4046-bfbc-5c606c1b64f4"
      },
      "execution_count": null,
      "outputs": [
        {
          "output_type": "error",
          "ename": "TypeError",
          "evalue": "'int' object is not subscriptable",
          "traceback": [
            "\u001b[0;31m---------------------------------------------------------------------------\u001b[0m",
            "\u001b[0;31mTypeError\u001b[0m                                 Traceback (most recent call last)",
            "\u001b[0;32m<ipython-input-7-bfa645c73915>\u001b[0m in \u001b[0;36m<cell line: 0>\u001b[0;34m()\u001b[0m\n\u001b[0;32m----> 1\u001b[0;31m \u001b[0msayi\u001b[0m\u001b[0;34m[\u001b[0m\u001b[0;36m0\u001b[0m\u001b[0;34m]\u001b[0m \u001b[0;31m#int ifade olduğu için veriyi getirmiyor\u001b[0m\u001b[0;34m\u001b[0m\u001b[0;34m\u001b[0m\u001b[0m\n\u001b[0m",
            "\u001b[0;31mTypeError\u001b[0m: 'int' object is not subscriptable"
          ]
        }
      ]
    },
    {
      "cell_type": "code",
      "source": [
        "str(sayi)[0] #string olduğu için veriyi getirir."
      ],
      "metadata": {
        "colab": {
          "base_uri": "https://localhost:8080/",
          "height": 35
        },
        "id": "pEUyDLDwmjxt",
        "outputId": "fd25673e-f467-4ab7-a732-5c87b1845a9e"
      },
      "execution_count": null,
      "outputs": [
        {
          "output_type": "execute_result",
          "data": {
            "text/plain": [
              "'1'"
            ],
            "application/vnd.google.colaboratory.intrinsic+json": {
              "type": "string"
            }
          },
          "metadata": {},
          "execution_count": 42
        }
      ]
    },
    {
      "cell_type": "code",
      "source": [
        "str(sayi)[3]"
      ],
      "metadata": {
        "colab": {
          "base_uri": "https://localhost:8080/",
          "height": 35
        },
        "id": "nfkwdzcUm_B5",
        "outputId": "bd01c9ca-3461-4708-b14c-1aa5b369818a"
      },
      "execution_count": null,
      "outputs": [
        {
          "output_type": "execute_result",
          "data": {
            "text/plain": [
              "'3'"
            ],
            "application/vnd.google.colaboratory.intrinsic+json": {
              "type": "string"
            }
          },
          "metadata": {},
          "execution_count": 43
        }
      ]
    },
    {
      "cell_type": "code",
      "source": [
        "str(sayi)[-1]"
      ],
      "metadata": {
        "colab": {
          "base_uri": "https://localhost:8080/",
          "height": 35
        },
        "id": "yM5BufclnEy-",
        "outputId": "dc5e4894-43f3-4b04-8f23-920258b72095"
      },
      "execution_count": null,
      "outputs": [
        {
          "output_type": "execute_result",
          "data": {
            "text/plain": [
              "'3'"
            ],
            "application/vnd.google.colaboratory.intrinsic+json": {
              "type": "string"
            }
          },
          "metadata": {},
          "execution_count": 44
        }
      ]
    },
    {
      "cell_type": "code",
      "source": [
        "str(sayi)[-4]"
      ],
      "metadata": {
        "colab": {
          "base_uri": "https://localhost:8080/",
          "height": 35
        },
        "id": "R9m4GCk1nJaD",
        "outputId": "14fe3033-589c-4822-f923-9c1225f18d6c"
      },
      "execution_count": null,
      "outputs": [
        {
          "output_type": "execute_result",
          "data": {
            "text/plain": [
              "'1'"
            ],
            "application/vnd.google.colaboratory.intrinsic+json": {
              "type": "string"
            }
          },
          "metadata": {},
          "execution_count": 47
        }
      ]
    },
    {
      "cell_type": "code",
      "source": [
        "mesaj"
      ],
      "metadata": {
        "colab": {
          "base_uri": "https://localhost:8080/",
          "height": 35
        },
        "id": "bkIaAIahnx_R",
        "outputId": "85964fce-5ab4-4fa7-991a-c5bb73beb622"
      },
      "execution_count": null,
      "outputs": [
        {
          "output_type": "execute_result",
          "data": {
            "text/plain": [
              "'Merhaba HOŞGELDİNİZ'"
            ],
            "application/vnd.google.colaboratory.intrinsic+json": {
              "type": "string"
            }
          },
          "metadata": {},
          "execution_count": 53
        }
      ]
    },
    {
      "cell_type": "code",
      "source": [
        "mesaj.title() #Her bir kelimenin baş harfini büyük yazar."
      ],
      "metadata": {
        "colab": {
          "base_uri": "https://localhost:8080/",
          "height": 35
        },
        "id": "JaB2i3Fln00G",
        "outputId": "906a5a22-6744-4e1a-99f4-f709115891a1"
      },
      "execution_count": null,
      "outputs": [
        {
          "output_type": "execute_result",
          "data": {
            "text/plain": [
              "'Merhaba Hoşgeldi̇ni̇z'"
            ],
            "application/vnd.google.colaboratory.intrinsic+json": {
              "type": "string"
            }
          },
          "metadata": {},
          "execution_count": 55
        }
      ]
    },
    {
      "cell_type": "code",
      "source": [
        "mesaj.capitalize() #Sadece ilk kelimenin baş harfini büyük yazar."
      ],
      "metadata": {
        "colab": {
          "base_uri": "https://localhost:8080/",
          "height": 35
        },
        "id": "pCFw2H3sclYJ",
        "outputId": "7d1f1d18-64e1-440f-d507-1d9d4f17a7ec"
      },
      "execution_count": null,
      "outputs": [
        {
          "output_type": "execute_result",
          "data": {
            "text/plain": [
              "'Merhaba hoşgeldi̇ni̇z'"
            ],
            "application/vnd.google.colaboratory.intrinsic+json": {
              "type": "string"
            }
          },
          "metadata": {},
          "execution_count": 19
        }
      ]
    },
    {
      "cell_type": "code",
      "source": [
        "mesaj.startswith(\"me\") #Bir metnin herhangi bir ifadeyle başlayıp başlamadığını kontrol eder."
      ],
      "metadata": {
        "colab": {
          "base_uri": "https://localhost:8080/"
        },
        "id": "4R4iByS9dELC",
        "outputId": "aa3b8258-dc6d-4aca-fdbd-92a937a7ddfa"
      },
      "execution_count": null,
      "outputs": [
        {
          "output_type": "execute_result",
          "data": {
            "text/plain": [
              "False"
            ]
          },
          "metadata": {},
          "execution_count": 20
        }
      ]
    },
    {
      "cell_type": "code",
      "source": [
        "mesaj.endswith(\"İZ\") #Bir metnin herhangi bir karakterle bitip bitmediğini kontrol eder."
      ],
      "metadata": {
        "colab": {
          "base_uri": "https://localhost:8080/"
        },
        "id": "UrxSJKR-em1e",
        "outputId": "5790267c-6c0b-4b74-f36b-89762d71871f"
      },
      "execution_count": null,
      "outputs": [
        {
          "output_type": "execute_result",
          "data": {
            "text/plain": [
              "True"
            ]
          },
          "metadata": {},
          "execution_count": 22
        }
      ]
    },
    {
      "cell_type": "code",
      "source": [
        "print(len(mesaj)) #Kaç karakterden oluştuğunu söyler."
      ],
      "metadata": {
        "colab": {
          "base_uri": "https://localhost:8080/"
        },
        "id": "OY-1anCRfBwa",
        "outputId": "9b88573a-06e7-4c74-e90c-97426e63f8a8"
      },
      "execution_count": null,
      "outputs": [
        {
          "output_type": "stream",
          "name": "stdout",
          "text": [
            "19\n"
          ]
        }
      ]
    },
    {
      "cell_type": "code",
      "source": [
        "mesaj.upper() #Kelimelerin hepsini büyük harfle yazar."
      ],
      "metadata": {
        "colab": {
          "base_uri": "https://localhost:8080/",
          "height": 35
        },
        "id": "Qz1c2M8qoOGu",
        "outputId": "90d12912-5454-4b49-a15c-65fa032080bd"
      },
      "execution_count": null,
      "outputs": [
        {
          "output_type": "execute_result",
          "data": {
            "text/plain": [
              "'MERHABA HOŞGELDİNİZ'"
            ],
            "application/vnd.google.colaboratory.intrinsic+json": {
              "type": "string"
            }
          },
          "metadata": {},
          "execution_count": 56
        }
      ]
    },
    {
      "cell_type": "code",
      "source": [
        "mesaj.lower() #Kelimelerin hepsini küçük harfle yazar."
      ],
      "metadata": {
        "colab": {
          "base_uri": "https://localhost:8080/",
          "height": 35
        },
        "id": "-nCSzsI5pWaS",
        "outputId": "4a94c7e9-fb8c-4360-d0c3-7b578ddc0a50"
      },
      "execution_count": null,
      "outputs": [
        {
          "output_type": "execute_result",
          "data": {
            "text/plain": [
              "'merhaba hoşgeldi̇ni̇z'"
            ],
            "application/vnd.google.colaboratory.intrinsic+json": {
              "type": "string"
            }
          },
          "metadata": {},
          "execution_count": 57
        }
      ]
    },
    {
      "cell_type": "code",
      "source": [
        "mesaj = mesaj.lower() #kaydetmiş oluyoruz"
      ],
      "metadata": {
        "id": "ntZC3FV6p_G_"
      },
      "execution_count": null,
      "outputs": []
    },
    {
      "cell_type": "code",
      "source": [
        "mesaj"
      ],
      "metadata": {
        "colab": {
          "base_uri": "https://localhost:8080/",
          "height": 35
        },
        "id": "R8Kdt9Y8qFmc",
        "outputId": "e4a7d4d3-6ed3-4f6f-c23d-757399d46aff"
      },
      "execution_count": null,
      "outputs": [
        {
          "output_type": "execute_result",
          "data": {
            "text/plain": [
              "'merhaba hoşgeldi̇ni̇z'"
            ],
            "application/vnd.google.colaboratory.intrinsic+json": {
              "type": "string"
            }
          },
          "metadata": {},
          "execution_count": 60
        }
      ]
    },
    {
      "cell_type": "code",
      "source": [
        "mesaj.replace(\"merhaba\",\"selam\") #replace'in iki tane parametresi var."
      ],
      "metadata": {
        "colab": {
          "base_uri": "https://localhost:8080/",
          "height": 35
        },
        "id": "KuFSIfrIr2ip",
        "outputId": "dcdf7da7-c3b8-456d-ee69-966b01fe1181"
      },
      "execution_count": null,
      "outputs": [
        {
          "output_type": "execute_result",
          "data": {
            "text/plain": [
              "'selam hoşgeldi̇ni̇z'"
            ],
            "application/vnd.google.colaboratory.intrinsic+json": {
              "type": "string"
            }
          },
          "metadata": {},
          "execution_count": 61
        }
      ]
    },
    {
      "cell_type": "code",
      "source": [
        "mesaj.split(\" \") #bir şeyi parçalamayı sağlar"
      ],
      "metadata": {
        "colab": {
          "base_uri": "https://localhost:8080/"
        },
        "id": "yN2X7GptsTew",
        "outputId": "0dc16e18-4c65-42b0-cdd7-27ae84a216b6"
      },
      "execution_count": null,
      "outputs": [
        {
          "output_type": "execute_result",
          "data": {
            "text/plain": [
              "['merhaba', 'hoşgeldi̇ni̇z']"
            ]
          },
          "metadata": {},
          "execution_count": 62
        }
      ]
    },
    {
      "cell_type": "code",
      "source": [
        "print(mesaj * 3)"
      ],
      "metadata": {
        "colab": {
          "base_uri": "https://localhost:8080/"
        },
        "id": "IFqJHQKSfxIE",
        "outputId": "2f9cdcd4-e471-4652-9db1-6028048ff884"
      },
      "execution_count": null,
      "outputs": [
        {
          "output_type": "stream",
          "name": "stdout",
          "text": [
            "Merhaba HOŞGELDİNİZMerhaba HOŞGELDİNİZMerhaba HOŞGELDİNİZ\n"
          ]
        }
      ]
    },
    {
      "cell_type": "code",
      "source": [
        "isim = \"Tülin\"\n",
        "yas = 21\n",
        "print(\"{}, {} yaşındadır.\".format(isim,yas))\n",
        "print(f\"{isim}, {yas} yaşındadır.\") #Bu şekilde de yazabiliriz."
      ],
      "metadata": {
        "id": "T74yIbcXgfQa",
        "colab": {
          "base_uri": "https://localhost:8080/"
        },
        "outputId": "3310122d-3804-48fe-d27b-c1cc22c7a053"
      },
      "execution_count": null,
      "outputs": [
        {
          "output_type": "stream",
          "name": "stdout",
          "text": [
            "Tülin, 21 yaşındadır.\n",
            "Tülin, 21 yaşındadır.\n"
          ]
        }
      ]
    },
    {
      "cell_type": "code",
      "source": [
        "dir(str)"
      ],
      "metadata": {
        "colab": {
          "base_uri": "https://localhost:8080/"
        },
        "id": "vpWY88Fdt0Jz",
        "outputId": "1f2b1dd8-dd67-4853-b5ff-a644d6e5701e"
      },
      "execution_count": null,
      "outputs": [
        {
          "output_type": "execute_result",
          "data": {
            "text/plain": [
              "['__add__',\n",
              " '__class__',\n",
              " '__contains__',\n",
              " '__delattr__',\n",
              " '__dir__',\n",
              " '__doc__',\n",
              " '__eq__',\n",
              " '__format__',\n",
              " '__ge__',\n",
              " '__getattribute__',\n",
              " '__getitem__',\n",
              " '__getnewargs__',\n",
              " '__gt__',\n",
              " '__hash__',\n",
              " '__init__',\n",
              " '__init_subclass__',\n",
              " '__iter__',\n",
              " '__le__',\n",
              " '__len__',\n",
              " '__lt__',\n",
              " '__mod__',\n",
              " '__mul__',\n",
              " '__ne__',\n",
              " '__new__',\n",
              " '__reduce__',\n",
              " '__reduce_ex__',\n",
              " '__repr__',\n",
              " '__rmod__',\n",
              " '__rmul__',\n",
              " '__setattr__',\n",
              " '__sizeof__',\n",
              " '__str__',\n",
              " '__subclasshook__',\n",
              " 'capitalize',\n",
              " 'casefold',\n",
              " 'center',\n",
              " 'count',\n",
              " 'encode',\n",
              " 'endswith',\n",
              " 'expandtabs',\n",
              " 'find',\n",
              " 'format',\n",
              " 'format_map',\n",
              " 'index',\n",
              " 'isalnum',\n",
              " 'isalpha',\n",
              " 'isascii',\n",
              " 'isdecimal',\n",
              " 'isdigit',\n",
              " 'isidentifier',\n",
              " 'islower',\n",
              " 'isnumeric',\n",
              " 'isprintable',\n",
              " 'isspace',\n",
              " 'istitle',\n",
              " 'isupper',\n",
              " 'join',\n",
              " 'ljust',\n",
              " 'lower',\n",
              " 'lstrip',\n",
              " 'maketrans',\n",
              " 'partition',\n",
              " 'removeprefix',\n",
              " 'removesuffix',\n",
              " 'replace',\n",
              " 'rfind',\n",
              " 'rindex',\n",
              " 'rjust',\n",
              " 'rpartition',\n",
              " 'rsplit',\n",
              " 'rstrip',\n",
              " 'split',\n",
              " 'splitlines',\n",
              " 'startswith',\n",
              " 'strip',\n",
              " 'swapcase',\n",
              " 'title',\n",
              " 'translate',\n",
              " 'upper',\n",
              " 'zfill']"
            ]
          },
          "metadata": {},
          "execution_count": 66
        }
      ]
    },
    {
      "cell_type": "code",
      "source": [
        "cumle =\"Ali gel Ali ata bak\""
      ],
      "metadata": {
        "id": "EOCZ87pCutK5"
      },
      "execution_count": null,
      "outputs": []
    },
    {
      "cell_type": "code",
      "source": [
        "cumle.count(\"Ali\") #Ali kelimesinin kaç tane olduğunu gösteriyor."
      ],
      "metadata": {
        "colab": {
          "base_uri": "https://localhost:8080/"
        },
        "id": "8wllvdoKuz7W",
        "outputId": "a2be803b-2aca-45e7-89c6-be2a46f4b199"
      },
      "execution_count": null,
      "outputs": [
        {
          "output_type": "execute_result",
          "data": {
            "text/plain": [
              "2"
            ]
          },
          "metadata": {},
          "execution_count": 76
        }
      ]
    },
    {
      "cell_type": "code",
      "source": [
        "cumle.index(\"gel\")"
      ],
      "metadata": {
        "colab": {
          "base_uri": "https://localhost:8080/"
        },
        "id": "nZ6jUWaOvwfw",
        "outputId": "db04a680-810e-4c99-a11d-87d463e70d0a"
      },
      "execution_count": null,
      "outputs": [
        {
          "output_type": "execute_result",
          "data": {
            "text/plain": [
              "4"
            ]
          },
          "metadata": {},
          "execution_count": 16
        }
      ]
    },
    {
      "cell_type": "markdown",
      "source": [
        "# **NÜMERİK İFADELER VE MATEMATİKSEL İŞLEMLER**"
      ],
      "metadata": {
        "id": "4DKMAmjcw1hq"
      }
    },
    {
      "cell_type": "code",
      "source": [
        "cumhuriyet = 1923 #int\n",
        "pi = 3.14 #float"
      ],
      "metadata": {
        "id": "aNub4j3Nvqt2"
      },
      "execution_count": null,
      "outputs": []
    },
    {
      "cell_type": "code",
      "source": [
        "int(pi)"
      ],
      "metadata": {
        "colab": {
          "base_uri": "https://localhost:8080/"
        },
        "id": "kbeWn7q8vyMu",
        "outputId": "60f3cc99-de9c-4b8a-ffbb-475f804feaee"
      },
      "execution_count": null,
      "outputs": [
        {
          "output_type": "execute_result",
          "data": {
            "text/plain": [
              "3"
            ]
          },
          "metadata": {},
          "execution_count": 20
        }
      ]
    },
    {
      "cell_type": "code",
      "source": [
        "int(\"10\")"
      ],
      "metadata": {
        "colab": {
          "base_uri": "https://localhost:8080/"
        },
        "id": "4c-4jtwHwDUH",
        "outputId": "4d51b420-af8e-4dad-f857-1968e510e5f8"
      },
      "execution_count": null,
      "outputs": [
        {
          "output_type": "execute_result",
          "data": {
            "text/plain": [
              "10"
            ]
          },
          "metadata": {},
          "execution_count": 21
        }
      ]
    },
    {
      "cell_type": "code",
      "source": [
        "float(cumhuriyet)"
      ],
      "metadata": {
        "colab": {
          "base_uri": "https://localhost:8080/"
        },
        "id": "Sd_uRgazwM89",
        "outputId": "42289cb8-fa48-4eb0-c008-7c56ef4fa8b4"
      },
      "execution_count": null,
      "outputs": [
        {
          "output_type": "execute_result",
          "data": {
            "text/plain": [
              "1923.0"
            ]
          },
          "metadata": {},
          "execution_count": 22
        }
      ]
    },
    {
      "cell_type": "code",
      "source": [
        "sayi1 = 1903\n",
        "sayi2 = 13"
      ],
      "metadata": {
        "id": "PnG3MOPoweRJ"
      },
      "execution_count": null,
      "outputs": []
    },
    {
      "cell_type": "code",
      "source": [
        "toplam = sayi1 + sayi2"
      ],
      "metadata": {
        "id": "jk1WeZZSwnWM"
      },
      "execution_count": null,
      "outputs": []
    },
    {
      "cell_type": "code",
      "source": [
        "toplam"
      ],
      "metadata": {
        "colab": {
          "base_uri": "https://localhost:8080/"
        },
        "id": "E_vf-uM9wrCq",
        "outputId": "3c3d95fd-f451-4a7c-a393-f67a7bc6658e"
      },
      "execution_count": null,
      "outputs": [
        {
          "output_type": "execute_result",
          "data": {
            "text/plain": [
              "1916"
            ]
          },
          "metadata": {},
          "execution_count": 25
        }
      ]
    },
    {
      "cell_type": "code",
      "source": [
        "print(sayi1,\"ve\",sayi2,\"değerlerinin toplamı:\",toplam)"
      ],
      "metadata": {
        "colab": {
          "base_uri": "https://localhost:8080/"
        },
        "id": "ITvv7Aosw0fo",
        "outputId": "6cfe3c19-a458-49e4-c5eb-d1d79d47720e"
      },
      "execution_count": null,
      "outputs": [
        {
          "output_type": "stream",
          "name": "stdout",
          "text": [
            "1903 ve 13 değerlerinin toplamı: 1916\n"
          ]
        }
      ]
    },
    {
      "cell_type": "code",
      "source": [
        "sayi1*sayi2"
      ],
      "metadata": {
        "colab": {
          "base_uri": "https://localhost:8080/"
        },
        "id": "q7V0VKYpxOtN",
        "outputId": "5d6bc2c6-3c80-4073-b6a4-7115846c4862"
      },
      "execution_count": null,
      "outputs": [
        {
          "output_type": "execute_result",
          "data": {
            "text/plain": [
              "24739"
            ]
          },
          "metadata": {},
          "execution_count": 30
        }
      ]
    },
    {
      "cell_type": "code",
      "source": [
        "sayi2**2 # ** kuvvet alır"
      ],
      "metadata": {
        "colab": {
          "base_uri": "https://localhost:8080/"
        },
        "id": "oIqcWa8TxZxA",
        "outputId": "c43c9bb2-07a2-4b7e-b3bd-0ffc858d9eec"
      },
      "execution_count": null,
      "outputs": [
        {
          "output_type": "execute_result",
          "data": {
            "text/plain": [
              "169"
            ]
          },
          "metadata": {},
          "execution_count": 31
        }
      ]
    },
    {
      "cell_type": "code",
      "source": [
        "pow(sayi2,2) #fonksiyon kullanarak da sayının kuvvetini alabiliriz."
      ],
      "metadata": {
        "colab": {
          "base_uri": "https://localhost:8080/"
        },
        "id": "AX_NmLSLxpD4",
        "outputId": "8793c932-5ac9-4087-a981-ec6a617389d2"
      },
      "execution_count": null,
      "outputs": [
        {
          "output_type": "execute_result",
          "data": {
            "text/plain": [
              "169"
            ]
          },
          "metadata": {},
          "execution_count": 33
        }
      ]
    },
    {
      "cell_type": "code",
      "source": [
        "199/19"
      ],
      "metadata": {
        "colab": {
          "base_uri": "https://localhost:8080/"
        },
        "id": "-cp62Mf3yCf8",
        "outputId": "458ba1a0-6e03-4ea1-cdcb-e0ff7c2f34de"
      },
      "execution_count": null,
      "outputs": [
        {
          "output_type": "execute_result",
          "data": {
            "text/plain": [
              "10.473684210526315"
            ]
          },
          "metadata": {},
          "execution_count": 34
        }
      ]
    },
    {
      "cell_type": "code",
      "source": [
        "sayi1/sayi2"
      ],
      "metadata": {
        "colab": {
          "base_uri": "https://localhost:8080/"
        },
        "id": "Ng6mUCaFyEM8",
        "outputId": "199953cb-76a4-4562-a364-94334a33cc70"
      },
      "execution_count": null,
      "outputs": [
        {
          "output_type": "execute_result",
          "data": {
            "text/plain": [
              "146.3846153846154"
            ]
          },
          "metadata": {},
          "execution_count": 35
        }
      ]
    },
    {
      "cell_type": "code",
      "source": [
        "sayi1//sayi2 #bölümün sadece tam kısmını görmek için 2 slash(//) kullanılır."
      ],
      "metadata": {
        "colab": {
          "base_uri": "https://localhost:8080/"
        },
        "id": "12c7GhKXyG99",
        "outputId": "bf3b868f-9391-4ac6-93b5-8cf27c4a69d5"
      },
      "execution_count": null,
      "outputs": [
        {
          "output_type": "execute_result",
          "data": {
            "text/plain": [
              "146"
            ]
          },
          "metadata": {},
          "execution_count": 36
        }
      ]
    },
    {
      "cell_type": "code",
      "source": [
        "sayi1%sayi2 #mod alma"
      ],
      "metadata": {
        "colab": {
          "base_uri": "https://localhost:8080/"
        },
        "id": "3sVQ-Wucyj09",
        "outputId": "1af3ac72-9f53-48d4-c429-d38d7cfd7c8a"
      },
      "execution_count": null,
      "outputs": [
        {
          "output_type": "execute_result",
          "data": {
            "text/plain": [
              "5"
            ]
          },
          "metadata": {},
          "execution_count": 37
        }
      ]
    },
    {
      "cell_type": "code",
      "source": [
        "print(16//5) # //(çift slash) bölme işleminin sadece tam kısmını yazdırır."
      ],
      "metadata": {
        "colab": {
          "base_uri": "https://localhost:8080/"
        },
        "id": "Yjwi9nDuH4nH",
        "outputId": "75b9d955-b6d7-4b13-a2fe-f213a17accd8"
      },
      "execution_count": null,
      "outputs": [
        {
          "output_type": "stream",
          "name": "stdout",
          "text": [
            "3\n"
          ]
        }
      ]
    },
    {
      "cell_type": "code",
      "source": [
        "print(abs(-3.16)) #mutlak değer"
      ],
      "metadata": {
        "colab": {
          "base_uri": "https://localhost:8080/"
        },
        "id": "w3GrAMP9IciE",
        "outputId": "7d74cd51-5b0c-4831-af87-7e3c06310960"
      },
      "execution_count": null,
      "outputs": [
        {
          "output_type": "stream",
          "name": "stdout",
          "text": [
            "3.16\n"
          ]
        }
      ]
    },
    {
      "cell_type": "code",
      "source": [
        "sayi = 5.3978982\n",
        "print(round(sayi,3)) #round() sayıyı yuvarlar.Virgülden sonra 3 basamak alır."
      ],
      "metadata": {
        "colab": {
          "base_uri": "https://localhost:8080/"
        },
        "id": "Klq17c1FIxUz",
        "outputId": "ba10f9c6-2404-435c-be70-2265ced279ce"
      },
      "execution_count": null,
      "outputs": [
        {
          "output_type": "stream",
          "name": "stdout",
          "text": [
            "5.398\n"
          ]
        }
      ]
    },
    {
      "cell_type": "code",
      "source": [
        "sayi1 = \"100\"\n",
        "sayi2 = 100\n",
        "sayi3 = int(sayi1) #string'i integer'a çevirdik.\n",
        "print(sayi2 == sayi3)"
      ],
      "metadata": {
        "colab": {
          "base_uri": "https://localhost:8080/"
        },
        "id": "eWcKChUuKxl4",
        "outputId": "e2e38493-05c3-4835-a6a6-527950caf99b"
      },
      "execution_count": null,
      "outputs": [
        {
          "output_type": "stream",
          "name": "stdout",
          "text": [
            "True\n"
          ]
        }
      ]
    },
    {
      "cell_type": "code",
      "source": [
        "sayi = 123\n",
        "sayi2 = str(sayi) #integer'ı string'e çevirdik.\n",
        "print(type(sayi2))"
      ],
      "metadata": {
        "colab": {
          "base_uri": "https://localhost:8080/"
        },
        "id": "j0zLJz4ELuGt",
        "outputId": "fa4918ce-95e2-4dda-a358-dbfb1c0aab9a"
      },
      "execution_count": null,
      "outputs": [
        {
          "output_type": "stream",
          "name": "stdout",
          "text": [
            "<class 'str'>\n"
          ]
        }
      ]
    },
    {
      "cell_type": "markdown",
      "source": [
        "# **input() FONKSİYONU**\n",
        "Kullanıcıdan veri almak için kullanılır. Her zaman string bir değer döndürür."
      ],
      "metadata": {
        "id": "VpR7ZbG5IYvp"
      }
    },
    {
      "cell_type": "code",
      "source": [
        "isim = input(\"Buraya isim giriniz : \")"
      ],
      "metadata": {
        "colab": {
          "base_uri": "https://localhost:8080/"
        },
        "id": "tNeMUQ8WzgZr",
        "outputId": "1eaf40ac-10e2-4f06-8a49-a037828a6c1a"
      },
      "execution_count": null,
      "outputs": [
        {
          "name": "stdout",
          "output_type": "stream",
          "text": [
            "Buraya isim giriniz : Tülin\n"
          ]
        }
      ]
    },
    {
      "cell_type": "code",
      "source": [
        "print(isim)"
      ],
      "metadata": {
        "colab": {
          "base_uri": "https://localhost:8080/"
        },
        "id": "nV6vAmrI0VZZ",
        "outputId": "d7902860-d9e6-4a16-9c42-8e703f6c2ace"
      },
      "execution_count": null,
      "outputs": [
        {
          "output_type": "stream",
          "name": "stdout",
          "text": [
            "Tülin\n"
          ]
        }
      ]
    },
    {
      "cell_type": "code",
      "source": [
        "sayi1 = input(\"İlk sayıyı giriniz : \")\n",
        "sayi2 = input(\"İkinci sayıyı giriniz : \")\n",
        "toplam = sayi1 + sayi2 # input() her zaman string bir değer döndürür. Bu yüzden sayıları toplamadı, yan yana yazdı.\n",
        "print(toplam)"
      ],
      "metadata": {
        "colab": {
          "base_uri": "https://localhost:8080/"
        },
        "id": "rodYI4Rb1v-C",
        "outputId": "d428e8cf-0264-4bac-a0da-a8570b625cef"
      },
      "execution_count": null,
      "outputs": [
        {
          "output_type": "stream",
          "name": "stdout",
          "text": [
            "İlk sayıyı giriniz : 34\n",
            "İkinci sayıyı giriniz : 67\n",
            "3467\n"
          ]
        }
      ]
    },
    {
      "cell_type": "code",
      "source": [
        "# @title Varsayılan başlık metni\n",
        "sayi1 = float(input(\"İlk sayıyı giriniz : \"))\n",
        "sayi2 = float(input(\"İkinci sayıyı giriniz : \"))\n",
        "toplam = sayi1 + sayi2 # input()'u floata dönüştürdük.\n",
        "print(toplam)"
      ],
      "metadata": {
        "colab": {
          "base_uri": "https://localhost:8080/"
        },
        "id": "V-E0m08V3oLM",
        "outputId": "79eed960-1493-459f-df8b-9bf7088f610e"
      },
      "execution_count": null,
      "outputs": [
        {
          "output_type": "stream",
          "name": "stdout",
          "text": [
            "İlk sayıyı giriniz : 34\n",
            "İkinci sayıyı giriniz : 67\n",
            "101.0\n"
          ]
        }
      ]
    },
    {
      "cell_type": "code",
      "source": [
        "sayi = int(input(\"Bir sayı giriniz : \"))\n",
        "faktoriyel = 1\n",
        "for i in range(1, sayi+1):\n",
        "  faktoriyel *= i\n",
        "print(f\"{sayi}! = {faktoriyel}\")"
      ],
      "metadata": {
        "colab": {
          "base_uri": "https://localhost:8080/"
        },
        "id": "0CBssPjRJsQe",
        "outputId": "2f57c133-a3e6-4ff6-ac10-618adc9abf3c"
      },
      "execution_count": null,
      "outputs": [
        {
          "output_type": "stream",
          "name": "stdout",
          "text": [
            "Bir sayı giriniz : 5\n",
            "5! = 120\n"
          ]
        }
      ]
    },
    {
      "cell_type": "code",
      "source": [
        "#Ekranden alınan bir sayını asal olup olmadığını kontrol eden program yazınız.\n",
        "sayi = int(input(\"Bir sayı giriniz :\"))\n",
        "for i in range(2,sayi):\n",
        "  if(sayi % i == 0):\n",
        "    print(f\"{sayi} sayısı asal değildir.\")\n",
        "    break\n",
        "else:\n",
        "  print(f\"{sayi} sayısı asaldır.\")"
      ],
      "metadata": {
        "colab": {
          "base_uri": "https://localhost:8080/"
        },
        "id": "St9ABxPoJrIi",
        "outputId": "269d2630-60f6-4779-a85e-da22bb124394"
      },
      "execution_count": null,
      "outputs": [
        {
          "output_type": "stream",
          "name": "stdout",
          "text": [
            "Bir sayı giriniz :15\n",
            "15 sayısı asal değildir.\n"
          ]
        }
      ]
    },
    {
      "cell_type": "code",
      "source": [
        "#Ekrandan alınan sayının kaç tane pozitif böleni olduğunu bulan programı kodlayınız.\n",
        "sayi = int(input(\"Bir sayı giriniz : \"))\n",
        "sayac = 0\n",
        "for i in range(1,sayi+1):\n",
        "  if(sayi % i == 0):\n",
        "    sayac += 1\n",
        "print(f\"{sayi} sayısının {sayac} tane pozitif böleni vardır.\")"
      ],
      "metadata": {
        "colab": {
          "base_uri": "https://localhost:8080/"
        },
        "id": "dArYAA7UNPY3",
        "outputId": "afe788e0-9ad0-403c-8cdf-6e9443afa477"
      },
      "execution_count": null,
      "outputs": [
        {
          "output_type": "stream",
          "name": "stdout",
          "text": [
            "Bir sayı giriniz : 20\n",
            "20 sayısının 6 tane pozitif böleni vardır.\n"
          ]
        }
      ]
    },
    {
      "cell_type": "code",
      "source": [
        "#Ekrandan okunan bir sayının rakamları toplamını hesaplayan bir program yazınız.\n",
        "sayi = input(\"Bir sayı giriniz : \")\n",
        "rakamlar_toplami = 0\n",
        "for rakam in sayi:\n",
        "  rakamlar_toplami += int(rakam)\n",
        "print(f\"{sayi} sayısının rakamları toplamı : {rakamlar_toplami}\")"
      ],
      "metadata": {
        "colab": {
          "base_uri": "https://localhost:8080/"
        },
        "id": "3uOuE0C0Wtlf",
        "outputId": "38206464-b652-413b-e4ee-3ebebc47dcdb"
      },
      "execution_count": null,
      "outputs": [
        {
          "output_type": "stream",
          "name": "stdout",
          "text": [
            "Bir sayı giriniz : 345\n",
            "345 sayısının rakamları toplamı : 12\n"
          ]
        }
      ]
    },
    {
      "cell_type": "code",
      "source": [
        "#Ekrandan okunan 5 sayının en küçüğünü ve en büyüğünü ekrana yazdıran program\n",
        "sayilar = []\n",
        "for i in range(1,6):\n",
        "  sayi = int(input(f\"{i}. sayıyı giriniz : \"))\n",
        "  sayilar.append(sayi)\n",
        "min_sayi = min(sayilar)\n",
        "max_sayi = max(sayilar)\n",
        "print(f\"En küçük sayı : {min_sayi}\")\n",
        "print(f\"En büyük sayı : {max_sayi}\")"
      ],
      "metadata": {
        "colab": {
          "base_uri": "https://localhost:8080/"
        },
        "id": "hlOMVH3oGlDV",
        "outputId": "e136cc8f-80f1-4882-9ea5-514ea970be15"
      },
      "execution_count": null,
      "outputs": [
        {
          "output_type": "stream",
          "name": "stdout",
          "text": [
            "1. sayıyı giriniz : 4\n",
            "2. sayıyı giriniz : 3\n",
            "3. sayıyı giriniz : 6\n",
            "4. sayıyı giriniz : 7\n",
            "5. sayıyı giriniz : 8\n",
            "En küçük sayı : 3\n",
            "En büyük sayı : 8\n"
          ]
        }
      ]
    },
    {
      "cell_type": "code",
      "source": [
        "#Ekrandan okunan bir sayının herhangi bir sayının karesi olup olmadığını kontrol eden kod\n",
        "sayi = int(input(\"Bir sayı giriniz : \"))\n",
        "if(sayi ** 0.5 == int(sayi ** 0.5)):\n",
        "  print(f\"{sayi} sayısı bir tam sayının karesidir.\")\n",
        "else:\n",
        "  print(f\"{sayi} sayısı bir tam sayının karesi değildir.\")"
      ],
      "metadata": {
        "colab": {
          "base_uri": "https://localhost:8080/"
        },
        "id": "_ASbZn2zNqen",
        "outputId": "04b5f228-dc73-4021-d95d-b2d9f8612b25"
      },
      "execution_count": null,
      "outputs": [
        {
          "output_type": "stream",
          "name": "stdout",
          "text": [
            "Bir sayı giriniz : 25\n",
            "25 sayısı bir tam sayının karesidir.\n"
          ]
        }
      ]
    },
    {
      "cell_type": "code",
      "source": [
        "#Ekrandan okunan bir metinde hangi harfin kaç kere kullanıldığını gösteren kod\n",
        "metin = input(\"Bir metin giriniz : \")\n",
        "sozluk = dict()\n",
        "for harf in metin:\n",
        "  if harf in sozluk:\n",
        "    sozluk[harf] += 1\n",
        "  else:\n",
        "    sozluk[harf] = 1\n",
        "for harf, adet in sozluk.items():\n",
        "  print(harf, adet)"
      ],
      "metadata": {
        "id": "Ii8xPqcZYooi",
        "colab": {
          "base_uri": "https://localhost:8080/"
        },
        "outputId": "1cc1a4be-dd61-4516-9651-54b5113ebfdd"
      },
      "execution_count": null,
      "outputs": [
        {
          "output_type": "stream",
          "name": "stdout",
          "text": [
            "Bir metin giriniz : programlama\n",
            "p 1\n",
            "r 2\n",
            "o 1\n",
            "g 1\n",
            "a 3\n",
            "m 2\n",
            "l 1\n"
          ]
        }
      ]
    },
    {
      "cell_type": "code",
      "source": [
        "#Ekrandan okunan bir metinde a harflerini büyük yapan programı yazınız.\n",
        "metin = input(\"Bir metin giriniz : \")\n",
        "metin2 = \"\"\n",
        "for harf in metin:\n",
        "  if harf == \"a\":\n",
        "    metin2 += \"A\"\n",
        "  else:\n",
        "    metin2 += harf\n",
        "print(metin2)"
      ],
      "metadata": {
        "colab": {
          "base_uri": "https://localhost:8080/"
        },
        "id": "y9XhAkeQn7wW",
        "outputId": "96a1521e-4de3-4e43-aa41-a40b1aa515ae"
      },
      "execution_count": null,
      "outputs": [
        {
          "output_type": "stream",
          "name": "stdout",
          "text": [
            "Bir metin giriniz : matematiksel\n",
            "mAtemAtiksel\n"
          ]
        }
      ]
    },
    {
      "cell_type": "markdown",
      "source": [
        "# **VERİ YAPILARI(LİST, TUPLE, SET, DICTIONARY)**"
      ],
      "metadata": {
        "id": "3D4sMK06xeO0"
      }
    },
    {
      "cell_type": "markdown",
      "source": [
        "# **LİSTE VE METOTLARI**\n",
        "\n",
        "\n",
        "\n",
        "\n"
      ],
      "metadata": {
        "id": "wXx5AGwI6kbt"
      }
    },
    {
      "cell_type": "code",
      "source": [
        "sayilar = [1,2,3,4,5,6] #liste yapısı"
      ],
      "metadata": {
        "id": "a5UT5boB6nuo"
      },
      "execution_count": null,
      "outputs": []
    },
    {
      "cell_type": "code",
      "source": [
        "type(sayilar) #type: veri tipi veren fonksiyon"
      ],
      "metadata": {
        "colab": {
          "base_uri": "https://localhost:8080/"
        },
        "id": "82KciRS460zf",
        "outputId": "71f92c42-bc82-4bf6-f6a5-0da90bb90f02"
      },
      "execution_count": null,
      "outputs": [
        {
          "output_type": "execute_result",
          "data": {
            "text/plain": [
              "list"
            ]
          },
          "metadata": {},
          "execution_count": 59
        }
      ]
    },
    {
      "cell_type": "code",
      "source": [
        "sayilar1 = [2,5.6,\"ders\",[9.33,12]]"
      ],
      "metadata": {
        "id": "eA_9UfmY7kGb"
      },
      "execution_count": null,
      "outputs": []
    },
    {
      "cell_type": "code",
      "source": [
        "len(sayilar1) #len() fonksiyonu eleman sayısını verir."
      ],
      "metadata": {
        "colab": {
          "base_uri": "https://localhost:8080/"
        },
        "id": "vmgej7fi99by",
        "outputId": "dd981e84-f07b-4863-a7ba-5475f2bede7e"
      },
      "execution_count": null,
      "outputs": [
        {
          "output_type": "execute_result",
          "data": {
            "text/plain": [
              "4"
            ]
          },
          "metadata": {},
          "execution_count": 61
        }
      ]
    },
    {
      "cell_type": "code",
      "source": [
        "print(sayilar1[2:]) #2. indeksten başla sona kadar yazdır."
      ],
      "metadata": {
        "colab": {
          "base_uri": "https://localhost:8080/"
        },
        "id": "uUgvVaeFUeC_",
        "outputId": "223c293e-b34d-4d46-b071-346e66841eba"
      },
      "execution_count": null,
      "outputs": [
        {
          "output_type": "stream",
          "name": "stdout",
          "text": [
            "['ders', [9.33, 12]]\n"
          ]
        }
      ]
    },
    {
      "cell_type": "code",
      "source": [
        "print(sayilar1[0:2]) #0. indeksten başla 2. indekse kadar yazdır, 2. indeks dahil değil"
      ],
      "metadata": {
        "colab": {
          "base_uri": "https://localhost:8080/"
        },
        "id": "eWM35OUtVMC_",
        "outputId": "e17d3353-3c15-4f3f-fa34-c5110717557c"
      },
      "execution_count": null,
      "outputs": [
        {
          "output_type": "stream",
          "name": "stdout",
          "text": [
            "[2, 5.6]\n"
          ]
        }
      ]
    },
    {
      "cell_type": "code",
      "source": [
        "isim = \"Tülin Eren\""
      ],
      "metadata": {
        "id": "lwoc3hHc-Oxx"
      },
      "execution_count": null,
      "outputs": []
    },
    {
      "cell_type": "code",
      "source": [
        "len(isim) #string'de karakter sayısını sayar(boşluğu da sayar) boşluklar da bir karakterdir"
      ],
      "metadata": {
        "colab": {
          "base_uri": "https://localhost:8080/"
        },
        "id": "qZ2uIFNU-R7X",
        "outputId": "fdce592c-d0eb-451f-94ca-bba6414028d0"
      },
      "execution_count": null,
      "outputs": [
        {
          "output_type": "execute_result",
          "data": {
            "text/plain": [
              "10"
            ]
          },
          "metadata": {},
          "execution_count": 66
        }
      ]
    },
    {
      "cell_type": "code",
      "source": [
        "sayilar1[3][0]"
      ],
      "metadata": {
        "colab": {
          "base_uri": "https://localhost:8080/"
        },
        "id": "JFnckcSR-4mH",
        "outputId": "a2d348b8-0b74-4063-f981-91adc240f0f3"
      },
      "execution_count": null,
      "outputs": [
        {
          "output_type": "execute_result",
          "data": {
            "text/plain": [
              "9.33"
            ]
          },
          "metadata": {},
          "execution_count": 73
        }
      ]
    },
    {
      "cell_type": "code",
      "source": [
        "sayilar1"
      ],
      "metadata": {
        "colab": {
          "base_uri": "https://localhost:8080/"
        },
        "id": "jwYIWDhx_fU_",
        "outputId": "696f1fa1-d85d-4e96-cd74-03736c812557"
      },
      "execution_count": null,
      "outputs": [
        {
          "output_type": "execute_result",
          "data": {
            "text/plain": [
              "[2, 5.6, 'ders', [9.33, 12]]"
            ]
          },
          "metadata": {},
          "execution_count": 74
        }
      ]
    },
    {
      "cell_type": "code",
      "source": [
        "dir(sayilar1)"
      ],
      "metadata": {
        "colab": {
          "base_uri": "https://localhost:8080/"
        },
        "collapsed": true,
        "id": "hilY5jAk_jJM",
        "outputId": "311c5582-84b8-4380-dbf1-fc56cfc03d60"
      },
      "execution_count": null,
      "outputs": [
        {
          "output_type": "execute_result",
          "data": {
            "text/plain": [
              "['__add__',\n",
              " '__class__',\n",
              " '__class_getitem__',\n",
              " '__contains__',\n",
              " '__delattr__',\n",
              " '__delitem__',\n",
              " '__dir__',\n",
              " '__doc__',\n",
              " '__eq__',\n",
              " '__format__',\n",
              " '__ge__',\n",
              " '__getattribute__',\n",
              " '__getitem__',\n",
              " '__gt__',\n",
              " '__hash__',\n",
              " '__iadd__',\n",
              " '__imul__',\n",
              " '__init__',\n",
              " '__init_subclass__',\n",
              " '__iter__',\n",
              " '__le__',\n",
              " '__len__',\n",
              " '__lt__',\n",
              " '__mul__',\n",
              " '__ne__',\n",
              " '__new__',\n",
              " '__reduce__',\n",
              " '__reduce_ex__',\n",
              " '__repr__',\n",
              " '__reversed__',\n",
              " '__rmul__',\n",
              " '__setattr__',\n",
              " '__setitem__',\n",
              " '__sizeof__',\n",
              " '__str__',\n",
              " '__subclasshook__',\n",
              " 'append',\n",
              " 'clear',\n",
              " 'copy',\n",
              " 'count',\n",
              " 'extend',\n",
              " 'index',\n",
              " 'insert',\n",
              " 'pop',\n",
              " 'remove',\n",
              " 'reverse',\n",
              " 'sort']"
            ]
          },
          "metadata": {},
          "execution_count": 76
        }
      ]
    },
    {
      "cell_type": "code",
      "source": [
        "sayilar1.append(\"Tülin\") #Listenin sonuna eleman ekler."
      ],
      "metadata": {
        "id": "sR-iaz2JBf_O"
      },
      "execution_count": null,
      "outputs": []
    },
    {
      "cell_type": "code",
      "source": [
        "sayilar1"
      ],
      "metadata": {
        "colab": {
          "base_uri": "https://localhost:8080/"
        },
        "id": "aX5Sngd6Bo-v",
        "outputId": "7dc31f61-1bf2-48b0-8f64-93bcf2b270a3"
      },
      "execution_count": null,
      "outputs": [
        {
          "output_type": "execute_result",
          "data": {
            "text/plain": [
              "[2, 5.6, 'ders', [9.33, 12], 'Tülin', 'Tülin', 'Tülin', 'Tülin']"
            ]
          },
          "metadata": {},
          "execution_count": 85
        }
      ]
    },
    {
      "cell_type": "code",
      "source": [
        "sayilar1.insert(3,\"Eren\") #insert() başa veya araya eleman ekler."
      ],
      "metadata": {
        "id": "kHRoBuARB6SR"
      },
      "execution_count": null,
      "outputs": []
    },
    {
      "cell_type": "code",
      "source": [
        "sayilar1"
      ],
      "metadata": {
        "colab": {
          "base_uri": "https://localhost:8080/"
        },
        "id": "TBFsgRJDB_cG",
        "outputId": "b79057fe-64ad-4a26-a012-7293ae77d9fc"
      },
      "execution_count": null,
      "outputs": [
        {
          "output_type": "execute_result",
          "data": {
            "text/plain": [
              "[2, 5.6, 'ders', 'Eren', [9.33, 12], 'Tülin', 'Tülin', 'Tülin', 'Tülin']"
            ]
          },
          "metadata": {},
          "execution_count": 87
        }
      ]
    },
    {
      "cell_type": "code",
      "source": [
        "sayilar1.remove(\"Tülin\") #istenilen elemanı siler."
      ],
      "metadata": {
        "id": "qmy2rKpWCbd8"
      },
      "execution_count": null,
      "outputs": []
    },
    {
      "cell_type": "code",
      "source": [
        "sayilar1"
      ],
      "metadata": {
        "colab": {
          "base_uri": "https://localhost:8080/"
        },
        "id": "NCjIxm6ZCgXF",
        "outputId": "4d73c748-6282-4057-e1f2-4fa35202239d"
      },
      "execution_count": null,
      "outputs": [
        {
          "output_type": "execute_result",
          "data": {
            "text/plain": [
              "[2, 5.6, 'ders', 'Eren', [9.33, 12], 'Tülin', 'Tülin', 'Tülin']"
            ]
          },
          "metadata": {},
          "execution_count": 89
        }
      ]
    },
    {
      "cell_type": "code",
      "source": [
        "sayilar1.pop(2) #Belirtilen indeksin elemanını siler(ve döndürür).Eğer indeks verilmezse son elemanı siler."
      ],
      "metadata": {
        "colab": {
          "base_uri": "https://localhost:8080/",
          "height": 35
        },
        "id": "EjmkDZUvC7Ni",
        "outputId": "04462e1a-3138-42f5-e1a9-27467a4e2655"
      },
      "execution_count": null,
      "outputs": [
        {
          "output_type": "execute_result",
          "data": {
            "text/plain": [
              "'ders'"
            ],
            "application/vnd.google.colaboratory.intrinsic+json": {
              "type": "string"
            }
          },
          "metadata": {},
          "execution_count": 24
        }
      ]
    },
    {
      "cell_type": "code",
      "source": [
        "sayilar1"
      ],
      "metadata": {
        "colab": {
          "base_uri": "https://localhost:8080/"
        },
        "id": "hiR6CwGzDw44",
        "outputId": "1f1acf84-f48b-4cf3-c964-ccaa781ecbc7"
      },
      "execution_count": null,
      "outputs": [
        {
          "output_type": "execute_result",
          "data": {
            "text/plain": [
              "[2, 5.6, 'ders', 'Eren', [9.33, 12], 'Tülin', 'Tülin']"
            ]
          },
          "metadata": {},
          "execution_count": 91
        }
      ]
    },
    {
      "cell_type": "code",
      "source": [
        "sayilar = [5,17,0,-32,67]"
      ],
      "metadata": {
        "id": "rqAlXksrEIJB"
      },
      "execution_count": null,
      "outputs": []
    },
    {
      "cell_type": "code",
      "source": [
        "sayilar.sort() #sayıları küçükten büyüğe sıralar."
      ],
      "metadata": {
        "id": "IrgZ-1KrENbT"
      },
      "execution_count": null,
      "outputs": []
    },
    {
      "cell_type": "code",
      "source": [
        "sayilar"
      ],
      "metadata": {
        "colab": {
          "base_uri": "https://localhost:8080/"
        },
        "id": "PWcublI8EPud",
        "outputId": "4a2cad10-e5bc-4548-fa68-5c3b878eaf94"
      },
      "execution_count": null,
      "outputs": [
        {
          "output_type": "execute_result",
          "data": {
            "text/plain": [
              "[-32, 0, 5, 17, 67]"
            ]
          },
          "metadata": {},
          "execution_count": 94
        }
      ]
    },
    {
      "cell_type": "code",
      "source": [
        "sayilar.reverse() #reverse() sayıları büyükten küçüğe sıralamaz, olan hali tam tersine çevirir."
      ],
      "metadata": {
        "id": "e7at7vsHEpjh"
      },
      "execution_count": null,
      "outputs": []
    },
    {
      "cell_type": "code",
      "source": [
        "sayilar"
      ],
      "metadata": {
        "id": "LzlrDBuoE75q",
        "outputId": "16ffb246-3501-40a2-ee4f-a103ca8d0464",
        "colab": {
          "base_uri": "https://localhost:8080/"
        }
      },
      "execution_count": null,
      "outputs": [
        {
          "output_type": "execute_result",
          "data": {
            "text/plain": [
              "[67, 17, 5, 0, -32]"
            ]
          },
          "metadata": {},
          "execution_count": 96
        }
      ]
    },
    {
      "cell_type": "code",
      "source": [
        "numbers = sayilar"
      ],
      "metadata": {
        "id": "GImgrE7eFShH"
      },
      "execution_count": null,
      "outputs": []
    },
    {
      "cell_type": "code",
      "source": [
        "sayilar.append(1903)"
      ],
      "metadata": {
        "id": "YSMqeT1gFXmp"
      },
      "execution_count": null,
      "outputs": []
    },
    {
      "cell_type": "code",
      "source": [
        "numbers"
      ],
      "metadata": {
        "colab": {
          "base_uri": "https://localhost:8080/"
        },
        "id": "T0vdr_a1FdW2",
        "outputId": "86c8d95d-310b-4943-d4ac-3d203e4a2e85"
      },
      "execution_count": null,
      "outputs": [
        {
          "output_type": "execute_result",
          "data": {
            "text/plain": [
              "[67, 17, 5, 0, -32, 1903]"
            ]
          },
          "metadata": {},
          "execution_count": 99
        }
      ]
    },
    {
      "cell_type": "code",
      "source": [
        "numbers = sayilar.copy() #kopyalıyor, kopyaladıktan sonra sayilar listesine eleman eklediğimizde numbers listesine eleman eklemez."
      ],
      "metadata": {
        "id": "7kwNVTyjFpPq"
      },
      "execution_count": null,
      "outputs": []
    },
    {
      "cell_type": "code",
      "source": [
        "sayilar.append(1919)"
      ],
      "metadata": {
        "id": "LfNsCWsWGSB6"
      },
      "execution_count": null,
      "outputs": []
    },
    {
      "cell_type": "code",
      "source": [
        "sayilar"
      ],
      "metadata": {
        "colab": {
          "base_uri": "https://localhost:8080/"
        },
        "id": "N0l-JD6DGKOB",
        "outputId": "2fcdb339-bb7a-4fee-cc13-c4e731136193"
      },
      "execution_count": null,
      "outputs": [
        {
          "output_type": "execute_result",
          "data": {
            "text/plain": [
              "[67, 17, 5, 0, -32, 1903, 1919]"
            ]
          },
          "metadata": {},
          "execution_count": 103
        }
      ]
    },
    {
      "cell_type": "code",
      "source": [
        "numbers"
      ],
      "metadata": {
        "colab": {
          "base_uri": "https://localhost:8080/"
        },
        "id": "BdUK7lAYGMKS",
        "outputId": "ba143170-7f45-46bc-daf5-3aed431fe97a"
      },
      "execution_count": null,
      "outputs": [
        {
          "output_type": "execute_result",
          "data": {
            "text/plain": [
              "[67, 17, 5, 0, -32, 1903]"
            ]
          },
          "metadata": {},
          "execution_count": 104
        }
      ]
    },
    {
      "cell_type": "code",
      "source": [
        "renkler1 = [\"kırmızı\",\"sarı\",\"mavi\"]\n",
        "renkler2 = [\"siyah\",\"beyaz\"]\n",
        "renkler1.extend(renkler2) #extend() iki listeyi birleştirir.\n",
        "print(renkler1)"
      ],
      "metadata": {
        "colab": {
          "base_uri": "https://localhost:8080/"
        },
        "id": "goiWf6cqXkMq",
        "outputId": "4672ff13-6c21-4850-8420-2eb34fd405f0"
      },
      "execution_count": null,
      "outputs": [
        {
          "output_type": "stream",
          "name": "stdout",
          "text": [
            "['kırmızı', 'sarı', 'mavi', 'siyah', 'beyaz']\n"
          ]
        }
      ]
    },
    {
      "cell_type": "code",
      "source": [
        "renkler = [\"Siyah\", \"Beyaz\", \"Sarı\", \"Mavi\", \"Yeşil\"]\n",
        "renkler.sort(reverse= True)\n",
        "print(renkler) #Liste değişti, eski haline dönmedi."
      ],
      "metadata": {
        "colab": {
          "base_uri": "https://localhost:8080/"
        },
        "id": "0pt1MiJga8LW",
        "outputId": "b408a80f-7e02-4d31-a765-8aab911f0e48"
      },
      "execution_count": null,
      "outputs": [
        {
          "output_type": "stream",
          "name": "stdout",
          "text": [
            "['Yeşil', 'Siyah', 'Sarı', 'Mavi', 'Beyaz']\n"
          ]
        }
      ]
    },
    {
      "cell_type": "code",
      "source": [
        "renkler = [\"Mavi\",\"Yeşil\",\"Mor\"]\n",
        "silinen = renkler.pop() #pop() metodu bir listenin son elemanını siler.O elemanı geri döndürür.(hangi elemanın silindiğini gösterebilir)\n",
        "print(renkler)\n",
        "print(silinen)"
      ],
      "metadata": {
        "colab": {
          "base_uri": "https://localhost:8080/"
        },
        "id": "ZZDreRN2hM9Q",
        "outputId": "3e0f24aa-1e16-44ab-bb51-7ebded597121"
      },
      "execution_count": null,
      "outputs": [
        {
          "output_type": "stream",
          "name": "stdout",
          "text": [
            "['Mavi', 'Yeşil']\n",
            "Mor\n"
          ]
        }
      ]
    },
    {
      "cell_type": "code",
      "source": [
        "renkler = [\"Siyah\",\"Beyaz\",\"Gri\"]\n",
        "renkler.clear() #clear() metodu listedeki tüm elemanları siler.\n",
        "print(renkler)"
      ],
      "metadata": {
        "colab": {
          "base_uri": "https://localhost:8080/"
        },
        "id": "33L1msqdhwkV",
        "outputId": "050eb4e6-c7eb-4238-8018-eb0e046c9a8d"
      },
      "execution_count": null,
      "outputs": [
        {
          "output_type": "stream",
          "name": "stdout",
          "text": [
            "[]\n"
          ]
        }
      ]
    },
    {
      "cell_type": "code",
      "source": [
        "renkler = [\"Siyah\",\"Beyaz\",\"Gri\"]\n",
        "liste = sorted(renkler) #sorted() metodu listeyi alfabetik olarak sıralar.Ayrıca renkler listesini değiştirmez.\n",
        "print(liste)\n",
        "print(renkler)"
      ],
      "metadata": {
        "colab": {
          "base_uri": "https://localhost:8080/"
        },
        "id": "pSjC2oMhh78a",
        "outputId": "b0244874-7a33-4497-a8a4-c27f842e3f18"
      },
      "execution_count": null,
      "outputs": [
        {
          "output_type": "stream",
          "name": "stdout",
          "text": [
            "['Beyaz', 'Gri', 'Siyah']\n",
            "['Siyah', 'Beyaz', 'Gri']\n"
          ]
        }
      ]
    },
    {
      "cell_type": "code",
      "source": [
        "renkler = [\"Mavi\",\"Yeşil\",\"Sarı\",\"Mor\"]\n",
        "sayilar = [3,56,43,11,9,0]\n",
        "print(min(renkler)) #min() metodu listedeki en küçük elemanı döndürür.\n",
        "print(max(renkler)) #max() metodu listedeki en büyük elemanı döndürür.\n",
        "print(min(sayilar))\n",
        "print(max(sayilar))"
      ],
      "metadata": {
        "colab": {
          "base_uri": "https://localhost:8080/"
        },
        "id": "vajohLVyihzE",
        "outputId": "cb2f461e-e115-4d7c-948b-00013b23e115"
      },
      "execution_count": null,
      "outputs": [
        {
          "output_type": "stream",
          "name": "stdout",
          "text": [
            "Mavi\n",
            "Yeşil\n",
            "0\n",
            "56\n"
          ]
        }
      ]
    },
    {
      "cell_type": "code",
      "source": [
        "sayilar = [3,56,43,11,9,0]\n",
        "print(sum(sayilar)) #sum listedeki sayıları toplar."
      ],
      "metadata": {
        "colab": {
          "base_uri": "https://localhost:8080/"
        },
        "id": "pHU0WixNinJH",
        "outputId": "b1d2cff5-e987-4e4c-8a37-3bd25d3edb38"
      },
      "execution_count": null,
      "outputs": [
        {
          "output_type": "stream",
          "name": "stdout",
          "text": [
            "122\n"
          ]
        }
      ]
    },
    {
      "cell_type": "code",
      "source": [
        "renkler = [\"Siyah\",\"Sarı\",\"Mavi\",\"Yeşil\"]\n",
        "for i in renkler:\n",
        "  print(i)"
      ],
      "metadata": {
        "colab": {
          "base_uri": "https://localhost:8080/"
        },
        "id": "wRn9tSfeizIL",
        "outputId": "61a3b91f-c068-444f-fc9c-8f70c345744c"
      },
      "execution_count": null,
      "outputs": [
        {
          "output_type": "stream",
          "name": "stdout",
          "text": [
            "Siyah\n",
            "Sarı\n",
            "Mavi\n",
            "Yeşil\n"
          ]
        }
      ]
    },
    {
      "cell_type": "code",
      "source": [
        "renkler = [\"Sarı\",\"Mavi\",\"Yeşil\"]\n",
        "stringrenkler = \"  \".join(renkler) #listeyi stringe çevirdi\n",
        "print(stringrenkler)"
      ],
      "metadata": {
        "colab": {
          "base_uri": "https://localhost:8080/"
        },
        "id": "DvaPGDp7jAay",
        "outputId": "7abec1e5-5e7b-41bd-a3d8-e3d644481fc9"
      },
      "execution_count": null,
      "outputs": [
        {
          "output_type": "stream",
          "name": "stdout",
          "text": [
            "Sarı  Mavi  Yeşil\n"
          ]
        }
      ]
    },
    {
      "cell_type": "code",
      "source": [
        "renkler = [\"Siyah\",\"Mavi\",\"Yeşil\"]\n",
        "stringrenkler = \"-\".join(renkler)\n",
        "print(stringrenkler)\n",
        "renkler2 = stringrenkler.split(\"-\") #stringe çevirilmiş listeyi listeye çevirdi\n",
        "print(renkler2)"
      ],
      "metadata": {
        "colab": {
          "base_uri": "https://localhost:8080/"
        },
        "id": "XG8osRICjlPh",
        "outputId": "ba7234ab-4449-4a57-d1b8-76b8c4180b62"
      },
      "execution_count": null,
      "outputs": [
        {
          "output_type": "stream",
          "name": "stdout",
          "text": [
            "Siyah-Mavi-Yeşil\n",
            "['Siyah', 'Mavi', 'Yeşil']\n"
          ]
        }
      ]
    },
    {
      "cell_type": "code",
      "source": [
        "meyveler =  ['elma', 'armut', 'çilek']\n",
        "for indeks, meyve in enumerate(meyveler):\n",
        "  print(indeks,meyve)"
      ],
      "metadata": {
        "colab": {
          "base_uri": "https://localhost:8080/"
        },
        "id": "ISUgdb2QoEJW",
        "outputId": "709f8d17-7071-4348-cfe8-1d260cf12077"
      },
      "execution_count": null,
      "outputs": [
        {
          "output_type": "stream",
          "name": "stdout",
          "text": [
            "0 elma\n",
            "1 armut\n",
            "2 çilek\n"
          ]
        }
      ]
    },
    {
      "cell_type": "code",
      "source": [
        "meyveler =  ['elma', 'armut', 'çilek']\n",
        "for indeks, meyve in enumerate(meyveler, start=4):\n",
        "  print(indeks,meyve)"
      ],
      "metadata": {
        "colab": {
          "base_uri": "https://localhost:8080/"
        },
        "id": "Km65knDDoXX_",
        "outputId": "e5f2833f-b370-4176-a4f8-1833fa18909e"
      },
      "execution_count": null,
      "outputs": [
        {
          "output_type": "stream",
          "name": "stdout",
          "text": [
            "4 elma\n",
            "5 armut\n",
            "6 çilek\n"
          ]
        }
      ]
    },
    {
      "cell_type": "code",
      "source": [
        "meyveler =  ['elma', 'armut', 'çilek']\n",
        "print(list(enumerate(meyveler, start=9))) #Listeye dönüştürme"
      ],
      "metadata": {
        "colab": {
          "base_uri": "https://localhost:8080/"
        },
        "id": "0eqQKA1copF7",
        "outputId": "90b2b8bb-930b-4bd2-f2b5-cf2240f46c7e"
      },
      "execution_count": null,
      "outputs": [
        {
          "output_type": "stream",
          "name": "stdout",
          "text": [
            "[(9, 'elma'), (10, 'armut'), (11, 'çilek')]\n"
          ]
        }
      ]
    },
    {
      "cell_type": "code",
      "source": [
        "hayvanlar = [\"Kedi\", \"Köpek\", \"Kuzu\"]\n",
        "print(\"Tavşan\" in hayvanlar) #Tavşan hayvanlar listesinde var mı?"
      ],
      "metadata": {
        "colab": {
          "base_uri": "https://localhost:8080/"
        },
        "id": "6vF6ihJsqNm8",
        "outputId": "1203d0bb-8a4f-489b-cab1-3fe3bc072862"
      },
      "execution_count": null,
      "outputs": [
        {
          "output_type": "stream",
          "name": "stdout",
          "text": [
            "False\n"
          ]
        }
      ]
    },
    {
      "cell_type": "markdown",
      "source": [
        "# **LİSTE İLE İLGİLİ ÖRNEKLER**"
      ],
      "metadata": {
        "id": "geU0I-Lxicie"
      }
    },
    {
      "cell_type": "code",
      "source": [
        "#Bir liste oluştur ve listeye kullanıcıdan aldığın 5 sayıyı ekle.Daha sonra bu sayıların toplamını ve ortalamasını ekrana yazdır.\n",
        "sayi1 = int(input(\"Birinci sayıyı giriniz : \"))\n",
        "sayi2 = int(input(\"İkinci sayıyı giriniz : \"))\n",
        "sayi3 = int(input(\"Üçüncü sayıyı giriniz : \"))\n",
        "sayi4 = int(input(\"Dördüncü sayıyı giriniz : \"))\n",
        "sayi5 = int(input(\"Beşinci sayıyı giriniz : \"))\n",
        "liste = [sayi1, sayi2, sayi3, sayi4, sayi5]\n",
        "ortalama = float((sayi1 + sayi2 + sayi3 + sayi4 + sayi5)/5)\n",
        "print(\"Sayıların toplamı : \",sum(liste))\n",
        "print(\"Sayıların ortalaması : \",ortalama)"
      ],
      "metadata": {
        "colab": {
          "base_uri": "https://localhost:8080/"
        },
        "id": "ffmMQht3UfcW",
        "outputId": "ba5b432f-9487-4baa-a8df-14413a3f32cf"
      },
      "execution_count": null,
      "outputs": [
        {
          "output_type": "stream",
          "name": "stdout",
          "text": [
            "Birinci sayıyı giriniz : 1\n",
            "İkinci sayıyı giriniz : 2\n",
            "Üçüncü sayıyı giriniz : 3\n",
            "Dördüncü sayıyı giriniz : 4\n",
            "Beşinci sayıyı giriniz : 5\n",
            "Sayıların toplamı :  15\n",
            "Sayıların ortalaması :  3.0\n"
          ]
        }
      ]
    },
    {
      "cell_type": "code",
      "source": [
        "#Üstteki kod benim yazdığım bu chatin yazdığı\n",
        "liste = []\n",
        "for i in range(1,6):\n",
        "  sayi = int(input(f\"{i}. sayıyı giriniz : \"))\n",
        "  liste.append(sayi)\n",
        "ortalama = sum(liste) / len(liste)\n",
        "print(\"Sayıların toplamı : \", sum(liste))\n",
        "print(\"Sayıların ortalaması : \", ortalama)"
      ],
      "metadata": {
        "colab": {
          "base_uri": "https://localhost:8080/"
        },
        "id": "X_-mP9eVgwdx",
        "outputId": "f1c19b88-c90b-48a7-afe3-491ebdd712a5"
      },
      "execution_count": null,
      "outputs": [
        {
          "output_type": "stream",
          "name": "stdout",
          "text": [
            "1. sayıyı giriniz : 1\n",
            "2. sayıyı giriniz : 2\n",
            "3. sayıyı giriniz : 3\n",
            "4. sayıyı giriniz : 4\n",
            "5. sayıyı giriniz : 5\n",
            "Sayıların toplamı :  15\n",
            "Sayıların ortalaması :  3.0\n"
          ]
        }
      ]
    },
    {
      "cell_type": "code",
      "source": [
        "#Bir liste oluştur. Kullanıcıdan 5 farklı kelime al ve bu kelimeleri listeye ekle.\n",
        "#1.Listeyi ekrana yazdır.\n",
        "#2.Listedeki kelimelerin her birini ayrı satırlarda yazdır.\n",
        "#3.Listedeki en uzun kelimeyi ekrana yazdır.\n",
        "liste = []\n",
        "for i in range(1, 6):\n",
        "  kelime = input(f\"{i}. kelimeyi giriniz : \")\n",
        "  liste.append(kelime)\n",
        "print(liste)\n",
        "for kelime in liste:\n",
        "    print(kelime)\n",
        "en_uzun_kelime = max(liste, key=len)\n",
        "print(\"Listedeki en uzun kelime : \", en_uzun_kelime)\n",
        "#key=len Yazmamızın sebebi, Python'un max()fonksiyonunun ne olduğunu karşılaştırması söylemek.\n",
        "#Normalde, max()fonksiyonun bir listesi içindeki en büyük öğeyi bulur.\n",
        "#Sayılar için bu işlem doğrudan yapılabilir. Ancak kelimelerden oluşan bir listenin hangi kritere göre en büyük (veya uzun) olduğunu anlaması gerekir .\n",
        "#Bu durumda, key=len yazarak, kelimelerin uzunluklarını (len) karşılaştırmasını sağlar."
      ],
      "metadata": {
        "colab": {
          "base_uri": "https://localhost:8080/"
        },
        "id": "fMDrS_p5i4GT",
        "outputId": "29780fce-4dad-48bc-eecd-34a141d15c0e"
      },
      "execution_count": null,
      "outputs": [
        {
          "output_type": "stream",
          "name": "stdout",
          "text": [
            "1. kelimeyi giriniz : ukulele\n",
            "2. kelimeyi giriniz : kasımpatı\n",
            "3. kelimeyi giriniz : çiçek\n",
            "4. kelimeyi giriniz : gülümse\n",
            "5. kelimeyi giriniz : maç\n",
            "['ukulele', 'kasımpatı', 'çiçek', 'gülümse', 'maç']\n",
            "ukulele\n",
            "kasımpatı\n",
            "çiçek\n",
            "gülümse\n",
            "maç\n",
            "Listedeki en uzun kelime :  kasımpatı\n"
          ]
        }
      ]
    },
    {
      "cell_type": "code",
      "source": [
        "#Bir liste oluştur ve içine 5 tane meyve adı ekle.\n",
        "#1.Listeyi ekrana yazdır.\n",
        "#2.Listenin ilk ve son elemanını ekrana yazdır.\n",
        "#3.Listeye bir tane daha eleman ekle ve güncellenmiş listeyi yazdır.\n",
        "#4.Listenin ikinci elemanını sil ve yeni listeyi yazdır.\n",
        "meyveler = [\"elma\", \"armut\", \"portakal\", \"muz\", \"çilek\"]\n",
        "print(meyveler)\n",
        "print(meyveler[0])\n",
        "print(meyveler[4])\n",
        "meyveler.append(\"avokado\")\n",
        "print(meyveler)\n",
        "meyveler.pop(1)\n",
        "print(meyveler)"
      ],
      "metadata": {
        "colab": {
          "base_uri": "https://localhost:8080/"
        },
        "id": "O9w-8xH7qop6",
        "outputId": "99a46017-a348-43b9-88c7-b53294801e14"
      },
      "execution_count": null,
      "outputs": [
        {
          "output_type": "stream",
          "name": "stdout",
          "text": [
            "['elma', 'armut', 'portakal', 'muz', 'çilek']\n",
            "elma\n",
            "çilek\n",
            "['elma', 'armut', 'portakal', 'muz', 'çilek', 'avokado']\n",
            "['elma', 'portakal', 'muz', 'çilek', 'avokado']\n"
          ]
        }
      ]
    },
    {
      "cell_type": "markdown",
      "source": [
        "# **TUPLE(DEMET)**"
      ],
      "metadata": {
        "id": "MLi6K4m7bNVn"
      }
    },
    {
      "cell_type": "code",
      "source": [
        "ogrenci1 = (\"Merve\", 23, 76)\n",
        "ogrenci2 = (\"Ahmet\", 20, 33)\n",
        "ogrenci3 = (\"Buse\", 24, 87)\n",
        "liste = [ogrenci1, ogrenci2, ogrenci3]\n",
        "print(liste)"
      ],
      "metadata": {
        "colab": {
          "base_uri": "https://localhost:8080/"
        },
        "id": "0vDKel4YRU1v",
        "outputId": "95f81bac-4061-4186-a9be-427ff2229cdc"
      },
      "execution_count": null,
      "outputs": [
        {
          "output_type": "stream",
          "name": "stdout",
          "text": [
            "[('Merve', 23, 76), ('Ahmet', 20, 33), ('Buse', 24, 87)]\n"
          ]
        }
      ]
    },
    {
      "cell_type": "markdown",
      "source": [
        "# **KÜME(SET)**"
      ],
      "metadata": {
        "id": "q_O6XiWfl5-f"
      }
    },
    {
      "cell_type": "code",
      "source": [
        "kume = {\"siyah\", \"sarı\", \"mavi\", \"yeşil\"}\n",
        "for renkler in kume:\n",
        "    print(renkler)\n",
        "kume.add(\"pembe\") #Eleman ekler. append() listelerde kullanılır, sonuna eleman ekler.Kümelerde sıra olmadığı için kullanılmaz.\n",
        "print(kume)\n",
        "kume.remove(\"sarı\") #Eleman siler.\n",
        "print(kume)"
      ],
      "metadata": {
        "colab": {
          "base_uri": "https://localhost:8080/"
        },
        "id": "C0t7IdoomACW",
        "outputId": "70f99d78-990e-452c-8d7b-e7f9af799e82"
      },
      "execution_count": null,
      "outputs": [
        {
          "output_type": "stream",
          "name": "stdout",
          "text": [
            "yeşil\n",
            "mavi\n",
            "sarı\n",
            "siyah\n",
            "{'mavi', 'pembe', 'yeşil', 'sarı', 'siyah'}\n",
            "{'mavi', 'pembe', 'yeşil', 'siyah'}\n"
          ]
        }
      ]
    },
    {
      "cell_type": "code",
      "source": [
        "kume = {\"siyah\", \"sarı\", \"mavi\", \"yeşil\"}\n",
        "kume.remove(\"gri\") #Eğer eleman kümede yoksa hata verir.\n",
        "print(kume)"
      ],
      "metadata": {
        "colab": {
          "base_uri": "https://localhost:8080/",
          "height": 176
        },
        "id": "Xyq1dlWbnojD",
        "outputId": "32f7df5e-d1e9-4318-9cab-81e8a0d96fa5"
      },
      "execution_count": null,
      "outputs": [
        {
          "output_type": "error",
          "ename": "KeyError",
          "evalue": "'gri'",
          "traceback": [
            "\u001b[0;31m---------------------------------------------------------------------------\u001b[0m",
            "\u001b[0;31mKeyError\u001b[0m                                  Traceback (most recent call last)",
            "\u001b[0;32m<ipython-input-16-1e0b80d8c37d>\u001b[0m in \u001b[0;36m<cell line: 0>\u001b[0;34m()\u001b[0m\n\u001b[1;32m      1\u001b[0m \u001b[0mkume\u001b[0m \u001b[0;34m=\u001b[0m \u001b[0;34m{\u001b[0m\u001b[0;34m\"siyah\"\u001b[0m\u001b[0;34m,\u001b[0m \u001b[0;34m\"sarı\"\u001b[0m\u001b[0;34m,\u001b[0m \u001b[0;34m\"mavi\"\u001b[0m\u001b[0;34m,\u001b[0m \u001b[0;34m\"yeşil\"\u001b[0m\u001b[0;34m}\u001b[0m\u001b[0;34m\u001b[0m\u001b[0;34m\u001b[0m\u001b[0m\n\u001b[0;32m----> 2\u001b[0;31m \u001b[0mkume\u001b[0m\u001b[0;34m.\u001b[0m\u001b[0mremove\u001b[0m\u001b[0;34m(\u001b[0m\u001b[0;34m\"gri\"\u001b[0m\u001b[0;34m)\u001b[0m\u001b[0;34m\u001b[0m\u001b[0;34m\u001b[0m\u001b[0m\n\u001b[0m\u001b[1;32m      3\u001b[0m \u001b[0mprint\u001b[0m\u001b[0;34m(\u001b[0m\u001b[0mkume\u001b[0m\u001b[0;34m)\u001b[0m\u001b[0;34m\u001b[0m\u001b[0;34m\u001b[0m\u001b[0m\n",
            "\u001b[0;31mKeyError\u001b[0m: 'gri'"
          ]
        }
      ]
    },
    {
      "cell_type": "code",
      "source": [
        "kume = {\"siyah\", \"sarı\", \"mavi\", \"yeşil\"}\n",
        "kume.discard(\"gri\") #Eğer eleman kümede yoksa dahi hata vermez.\n",
        "print(kume)"
      ],
      "metadata": {
        "colab": {
          "base_uri": "https://localhost:8080/"
        },
        "id": "wDxTSkxjn_Eh",
        "outputId": "5ed6e206-309a-48ca-8226-1831282fd71b"
      },
      "execution_count": null,
      "outputs": [
        {
          "output_type": "stream",
          "name": "stdout",
          "text": [
            "{'yeşil', 'mavi', 'sarı', 'siyah'}\n"
          ]
        }
      ]
    },
    {
      "cell_type": "code",
      "source": [
        "A = {1,2,3}\n",
        "B = {3,4,5}\n",
        "print(A | B) #Birleşim\n",
        "print(A & B) #Kesişim\n",
        "print(A - B) #Fark\n",
        "print(A ^ B) #Simetrik fark"
      ],
      "metadata": {
        "colab": {
          "base_uri": "https://localhost:8080/"
        },
        "id": "7O7Hr7Ipp6_n",
        "outputId": "689e55fc-6da9-40e8-ff96-7bfab4da42b3"
      },
      "execution_count": null,
      "outputs": [
        {
          "output_type": "stream",
          "name": "stdout",
          "text": [
            "{1, 2, 3, 4, 5}\n",
            "{3}\n",
            "{1, 2}\n",
            "{1, 2, 4, 5}\n"
          ]
        }
      ]
    },
    {
      "cell_type": "code",
      "source": [
        "kume = {1,2,3,4}\n",
        "print(2 in kume) #2 kümede var mı?\n",
        "print(4 not in kume)"
      ],
      "metadata": {
        "colab": {
          "base_uri": "https://localhost:8080/"
        },
        "id": "_kRlm1RGtgcY",
        "outputId": "5672e6c2-930b-49f5-ff6f-af9569cf0b22"
      },
      "execution_count": null,
      "outputs": [
        {
          "output_type": "stream",
          "name": "stdout",
          "text": [
            "True\n",
            "False\n"
          ]
        }
      ]
    },
    {
      "cell_type": "code",
      "source": [
        "kume1 = {\"sarı\", \"beyaz\", \"mavi\", \"kırmızı\"}\n",
        "kume2 = {\"beyaz\", \"pembe\", \"siyah\"}\n",
        "print(kume1.intersection(kume2)) #Kesişim\n",
        "print(kume1.union(kume2)) #Birleşim\n",
        "print(kume1.difference(kume2)) #Fark kume1'de olup kume2'de olmayan\n",
        "print(kume1.symmetric_difference(kume2)) #Simetrik"
      ],
      "metadata": {
        "colab": {
          "base_uri": "https://localhost:8080/"
        },
        "id": "r1fSeW_brSje",
        "outputId": "b4adab99-b774-4c30-b98d-b13e2ed3bc2d"
      },
      "execution_count": null,
      "outputs": [
        {
          "output_type": "stream",
          "name": "stdout",
          "text": [
            "{'beyaz'}\n",
            "{'siyah', 'kırmızı', 'sarı', 'mavi', 'beyaz', 'pembe'}\n",
            "{'kırmızı', 'sarı', 'mavi'}\n",
            "{'siyah', 'sarı', 'kırmızı', 'mavi', 'pembe'}\n"
          ]
        }
      ]
    },
    {
      "cell_type": "code",
      "source": [
        "bos_liste1 = []\n",
        "bos_liste2 = list()\n",
        "\n",
        "bos_demet1 = ()\n",
        "bos_demet2 = tuple()\n",
        "\n",
        "bos_kume = set()\n",
        "bos_kume1 = {} #Bu bir sözlüktür"
      ],
      "metadata": {
        "id": "AdPsH9XhvJEC"
      },
      "execution_count": null,
      "outputs": []
    },
    {
      "cell_type": "code",
      "source": [
        "python = set(\"PYTHON\") #Listeyi kümeye çevirdi\n",
        "print(python)\n",
        "kume = set([1,2,3,4]) #Listeyi kümeye çevirdi\n",
        "print(kume)\n",
        "demet = set((1,2,3,4)) #Demeti kümeye çevirdi\n",
        "print(demet)"
      ],
      "metadata": {
        "colab": {
          "base_uri": "https://localhost:8080/"
        },
        "id": "VFJt57Xyvv31",
        "outputId": "09f86a29-e4ad-4ef1-e382-43368d516156"
      },
      "execution_count": null,
      "outputs": [
        {
          "output_type": "stream",
          "name": "stdout",
          "text": [
            "{'H', 'O', 'P', 'T', 'N', 'Y'}\n",
            "{1, 2, 3, 4}\n"
          ]
        }
      ]
    },
    {
      "cell_type": "markdown",
      "source": [
        "# **KÜME İLE İLGİLİ ÖRNEKLER**"
      ],
      "metadata": {
        "id": "_zbYLFBV-CfA"
      }
    },
    {
      "cell_type": "code",
      "source": [
        "#Bir sınıftaki matematik sınavına girenleri ve fen sınavına girenleri kümelerle temsil et.\n",
        "#Matematik sınavına giren öğrenciler:{\"Ali\", \"Ayşe\", \"Fatma\", \"Mehmet\"}\n",
        "#Fen sınavına giren öğrenciler:{\"Ayşe\", \"Fatma\", \"Hasan\", \"Zeynep\"}\n",
        "#1.Her iki sınava da giren bul.\n",
        "#2.Sadece matematik sınavına girenlere bul.\n",
        "#3.İki sınavdan en az birine giren listele.\n",
        "\n",
        "matematik = {\"Ali\", \"Ayşe\", \"Fatma\", \"Mehmet\"}\n",
        "fen = {\"Ayşe\", \"Fatma\", \"Hasan\", \"Zeynep\"}\n",
        "print(matematik.intersection(fen))\n",
        "print(matematik.difference(fen))\n",
        "print(matematik.union(fen))"
      ],
      "metadata": {
        "colab": {
          "base_uri": "https://localhost:8080/"
        },
        "id": "hMnlpvOHyxk5",
        "outputId": "8f633fc2-91d2-4eeb-bbd6-5c2d7b878815"
      },
      "execution_count": null,
      "outputs": [
        {
          "output_type": "stream",
          "name": "stdout",
          "text": [
            "{'Ayşe', 'Fatma'}\n",
            "{'Mehmet', 'Ali'}\n",
            "{'Hasan', 'Zeynep', 'Ayşe', 'Mehmet', 'Fatma', 'Ali'}\n"
          ]
        }
      ]
    },
    {
      "cell_type": "code",
      "source": [
        "# Bir etkinlik düzenleniyor ve etkinliğe katılanların bir kısmı spor kulübü üyesi, bir kısmı sanat kulübü üyesi. Bu bilgilerin bilgileri aşağıda verilmiştir:\n",
        "#Spor kulübü üyeleri: {\"Ali\", \"Ayşe\", \"Cem\", \"Deniz\", \"Fatma\"}\n",
        "#Sanat kulübü bileşenleri: {\"Cem\", \"Fatma\", \"Hasan\", \"İpek\", \"Mehmet\"}\n",
        "#1.Hem spor hem de sanat kulübüne üye olanlarda bulun.\n",
        "#2.Sadece bir kulübe olan üyeleri listeleyin.\n",
        "#3.Tüm sayıların toplam sayısı bulunur.\n",
        "#4.Sanat kulübüne üye olmayan spor Kulübü Üyelerini listeleyin.\n",
        "\n",
        "spor = {\"Ali\", \"Ayşe\", \"Cem\", \"Deniz\", \"Fatma\"}\n",
        "sanat = {\"Cem\", \"Fatma\", \"Hasan\", \"İpek\", \"Mehmer\"}\n",
        "print(spor | sanat)\n",
        "print(spor ^ sanat)\n",
        "print(\"Toplam öğrenci sayısı : \", len(spor.union(sanat))) #len() fonksiyonu kümedeki eleman sayısını verir.\n",
        "print(spor.difference(sanat))"
      ],
      "metadata": {
        "colab": {
          "base_uri": "https://localhost:8080/"
        },
        "id": "fYPvwEdq0xR5",
        "outputId": "ec5d6468-1122-4bd1-8734-8c674b4aea9f"
      },
      "execution_count": null,
      "outputs": [
        {
          "output_type": "stream",
          "name": "stdout",
          "text": [
            "{'Hasan', 'İpek', 'Ayşe', 'Fatma', 'Mehmer', 'Deniz', 'Ali', 'Cem'}\n",
            "{'Mehmer', 'Deniz', 'Hasan', 'İpek', 'Ali', 'Ayşe'}\n",
            "Toplam öğrenci sayısı :  8\n",
            "{'Deniz', 'Ayşe', 'Ali'}\n"
          ]
        }
      ]
    },
    {
      "cell_type": "code",
      "source": [
        "#Bir şirketin çalışanlarının bilgileri şu şekildedir:\n",
        "#Proje A'da özellikler: {\"Ali\", \"Ayşe\", \"Cem\", \"Deniz\", \"Elif\"}\n",
        "#Proje B'de gösterilenler: {\"Cem\", \"Fatma\", \"Hasan\", \"Elif\", \"Zeynep\"}\n",
        "#Proje C'de gösterilenler: {\"Ali\", \"Fatma\", \"Deniz\", \"Hasan\", \"İpek\"}\n",
        "#1.Her üç projede de çalışan kişiler bulunuyor.\n",
        "#2.Sadece bir projede çalışan kişileri listeleyin.\n",
        "#3.En az iki projede çalışan kişileri listeleyin.\n",
        "#4.Hiçbir projenin ortak olmayan bir kişinin olup olmadığını kontrol edin. (Bir kişinin üç projesi çalışmıyorsa, onları listeleyin.)\n",
        "\n",
        "projeA = {\"Ali\", \"Ayşe\", \"Cem\", \"Deniz\", \"Elif\"}\n",
        "projeB = {\"Cem\", \"Fatma\", \"Hasan\", \"Elif\", \"Zeynep\"}\n",
        "projeC = {\"Ali\", \"Fatma\", \"Deniz\", \"Hasan\", \"İpek\"}\n",
        "print(projeA & projeB & projeC)\n",
        "print(projeA ^ projeB ^ projeC)\n",
        "print((projeA | projeB | projeC)-(projeA ^ projeB ^ projeC))\n",
        "print((projeA | projeB | projeC)-(projeA & projeB & projeC))"
      ],
      "metadata": {
        "colab": {
          "base_uri": "https://localhost:8080/"
        },
        "id": "8BwclPP75F6f",
        "outputId": "560deb3a-7c2d-4fe2-eb2e-29b824fadc96"
      },
      "execution_count": null,
      "outputs": [
        {
          "output_type": "stream",
          "name": "stdout",
          "text": [
            "set()\n",
            "{'İpek', 'Zeynep', 'Ayşe'}\n",
            "{'Hasan', 'Elif', 'Fatma', 'Deniz', 'Ali', 'Cem'}\n",
            "{'Hasan', 'İpek', 'Zeynep', 'Ayşe', 'Elif', 'Fatma', 'Deniz', 'Ali', 'Cem'}\n"
          ]
        }
      ]
    },
    {
      "cell_type": "markdown",
      "source": [
        "# **SÖZLÜK(DICTIONARY)**"
      ],
      "metadata": {
        "id": "2c2vgGzN9G-s"
      }
    },
    {
      "cell_type": "code",
      "source": [
        "sozluk = {\n",
        "    \"ad\" : \"Tülin\",\n",
        "    \"soyad\" : \"Eren\",\n",
        "    \"yas\" : 21\n",
        "}\n",
        "print(sozluk)\n",
        "print(sozluk[\"ad\"]) #Sözlükteki elemanlara erişim\n",
        "sozluk[\"meslek\"] = \"mühendis\" #Sözlükteki anahtar ve değerlere ekleme\n",
        "print(sozluk)\n",
        "del sozluk[\"yas\"] #Anahtar silme: Anahtarları ve karşılık gelen değerlerini silmek için del kullanılır.\n",
        "print(sozluk)\n",
        "sozluk[\"ad\"] = \"Fatma\" #Sözlükte değer değiştirme\n",
        "print(sozluk)\n",
        "print(\"ad\" in sozluk) #Sözlükte anahtar kontrolü\n",
        "#Tüm anahtar, değerler veya anahtar-değer çiftlerine erişmek için .keys(), .values() ve .items() metodları kullanılır.\n",
        "print(sozluk.keys())\n",
        "print(sozluk.values())\n",
        "print(sozluk.items())\n",
        "#ÖNEMLİ NOT: Sözlükteki anahtarlar string veya int olmak zorunda. ancak değer kısmı her şey olabilir(string, int, küme, liste vs.)."
      ],
      "metadata": {
        "colab": {
          "base_uri": "https://localhost:8080/"
        },
        "id": "seEFZo6r9PKw",
        "outputId": "58027cd7-7bbe-4962-f79d-1c35014f19e2"
      },
      "execution_count": null,
      "outputs": [
        {
          "output_type": "stream",
          "name": "stdout",
          "text": [
            "{'ad': 'Tülin', 'soyad': 'Eren', 'yas': 21}\n",
            "Tülin\n",
            "{'ad': 'Tülin', 'soyad': 'Eren', 'yas': 21, 'meslek': 'mühendis'}\n",
            "{'ad': 'Tülin', 'soyad': 'Eren', 'meslek': 'mühendis'}\n",
            "{'ad': 'Fatma', 'soyad': 'Eren', 'meslek': 'mühendis'}\n",
            "True\n",
            "dict_keys(['ad', 'soyad', 'meslek'])\n",
            "dict_values(['Fatma', 'Eren', 'mühendis'])\n",
            "dict_items([('ad', 'Fatma'), ('soyad', 'Eren'), ('meslek', 'mühendis')])\n"
          ]
        }
      ]
    },
    {
      "cell_type": "code",
      "source": [
        "sozluk = {\n",
        "    \"ad\" : \"Tülin\",\n",
        "    \"soyad\" : \"Eren\",\n",
        "    \"yas\" : 21\n",
        "}\n",
        "print(sozluk)\n",
        "sozluk.update({\"ad\" : \"Fatma\", \"yas\" : 23}) #Birden fazla anahtar değiştirmek istediğimizde update metodunu kullanırız.\n",
        "print(sozluk)"
      ],
      "metadata": {
        "colab": {
          "base_uri": "https://localhost:8080/"
        },
        "id": "7MyT4zDh0fxm",
        "outputId": "ff99a867-a675-4b6f-ddc9-db7387d39419"
      },
      "execution_count": null,
      "outputs": [
        {
          "output_type": "stream",
          "name": "stdout",
          "text": [
            "{'ad': 'Tülin', 'soyad': 'Eren', 'yas': 21}\n",
            "{'ad': 'Fatma', 'soyad': 'Eren', 'yas': 23}\n"
          ]
        }
      ]
    },
    {
      "cell_type": "code",
      "source": [
        "sozluk = {\n",
        "    \"ad\" : \"Tülin\",\n",
        "    \"soyad\" : \"Eren\",\n",
        "    \"yas\" : 21\n",
        "}\n",
        "for i in sozluk:\n",
        "  print(i) #sözlükteki anahtarları yazdırır.\n",
        "for i in sozluk.keys():\n",
        "  print(i) #sözlükteki anahtarları yazdırır.\n",
        "for i in sozluk:\n",
        "  print(sozluk[i]) #sözlükteki değerleri yazdırır.\n",
        "for i in sozluk.values():\n",
        "  print(i) #sözlükteki değerleri yazdırır.\n",
        "for i in sozluk.items():\n",
        "  print(i) #sözlükteki anahtar ve değerleri yazdırır.\n",
        "for k,v in sozluk.items():\n",
        "  print(k,v) #sözlükteki anahtar ve değerleri yazdırır."
      ],
      "metadata": {
        "colab": {
          "base_uri": "https://localhost:8080/"
        },
        "id": "_70Il7bD3Ho-",
        "outputId": "bc9cd308-d959-4fef-b148-436a2e3c7cbb"
      },
      "execution_count": null,
      "outputs": [
        {
          "output_type": "stream",
          "name": "stdout",
          "text": [
            "ad\n",
            "soyad\n",
            "yas\n",
            "ad\n",
            "soyad\n",
            "yas\n",
            "Tülin\n",
            "Eren\n",
            "21\n",
            "Tülin\n",
            "Eren\n",
            "21\n",
            "('ad', 'Tülin')\n",
            "('soyad', 'Eren')\n",
            "('yas', 21)\n",
            "ad Tülin\n",
            "soyad Eren\n",
            "yas 21\n"
          ]
        }
      ]
    },
    {
      "cell_type": "code",
      "source": [
        "#Python'da get() metodu, bir sözlükte belirli bir anahtarın değerinin güvenli bir şekilde alınması için kullanılır.\n",
        "#Eğer aradığın anahtar sözlükte bulunuyorsa, bu anahtarın karşılık gelen değerini döndürür.\n",
        "#Ancak anahtar sözlükte yoksa, hata vermek yerine varsayılan bir değer döner (veya None).\n",
        "#Sözlükte olmayan bir anahtar sorgularken KeyErrorhatalardan çözüm için kullanılır.\n",
        "#Anahtar varsa değer döner:\n",
        "sozluk = {\"ad\": \"Ali\", \"yas\": 25}\n",
        "print(sozluk.get(\"ad\"))\n",
        "#Anahtar yoksa None döndürür:\n",
        "sozluk = {\"ad\": \"Ali\", \"yas\": 25}\n",
        "print(sozluk.get(\"sehir\"))\n",
        "#Anahtar yoksa varsayılan bir değer döndürme:\n",
        "sozluk = {\"ad\": \"Ali\", \"yas\": 25}\n",
        "print(sozluk.get(\"sehir\", \"Bilinmiyor\"))\n",
        "#Anahtar sözlükte varsa varsayılan değer göz ardı eder:\n",
        "sozluk = {\"ad\": \"Ali\", \"yas\": 25}\n",
        "print(sozluk.get(\"yas\", \"Bilinmiyor\"))"
      ],
      "metadata": {
        "colab": {
          "base_uri": "https://localhost:8080/"
        },
        "id": "yaX156wQ7XHl",
        "outputId": "5c415640-7ebf-4339-d28d-d325cf623afd"
      },
      "execution_count": null,
      "outputs": [
        {
          "output_type": "stream",
          "name": "stdout",
          "text": [
            "Ali\n",
            "None\n",
            "Bilinmiyor\n",
            "25\n"
          ]
        }
      ]
    },
    {
      "cell_type": "markdown",
      "source": [
        "# **SÖZLÜK İLE İLGİLİ ÖRNEKLER**"
      ],
      "metadata": {
        "id": "gv8rZQpHOxLa"
      }
    },
    {
      "cell_type": "code",
      "source": [
        "#Bir okulun sınıf listesi aşağıdaki gibi bir sözlükte tutuluyor.\n",
        "#sinif_listesi = {\n",
        "#    \"Ali\": 85,\n",
        "#    \"Ayşe\": 90,\n",
        "#    \"Mehmet\": 78,\n",
        "#    \"Zeynep\": 92,\n",
        "#     \"Hasan\": 67\n",
        "#}\n",
        "#Bir öğrencinin notunu öğrendiği: Kullanıcıdan bir öğrencinin adı ve o öğrencinin notunun ekranı yazdırılır.\n",
        "#Eğer öğrenci listede yoksa \"Bu öğrenci listede yok.\" mesajını göster.\n",
        "#Not: Kullanıcıdan bir öğrenci adı ve yeni notunu al, bu notla öğrencinin notunu güncelle.\n",
        "#Eğer öğrenci listede yoksa \"Bu öğrenci hatalıysa, lütfen geçerli bir isim girin.\" mesajı göster.\n",
        "#Sınıfını ortalama hesabıyla: Tüm öğrencilerinin notlarını ortalama hesaplayıp ekranını yazdırır.\n",
        "sinif_listesi = {\n",
        "    \"Ali\": 85,\n",
        "    \"Ayşe\": 90,\n",
        "    \"Mehmet\": 78,\n",
        "    \"Zeynep\": 92,\n",
        "    \"Hasan\": 67\n",
        "}\n",
        "isim = input(\"Bir öğrenci ismi giriniz : \")\n",
        "if(isim in sinif_listesi):\n",
        "  print(sinif_listesi[isim])\n",
        "else:\n",
        "  print(\"Bu öğrenci listede yok.\")\n",
        "\n",
        "ad = input(\"Bir öğrenci adı giriniz : \")\n",
        "not1 = int(input(\"Öğrencinin notunu giriniz : \"))\n",
        "if(ad in sinif_listesi):\n",
        " sinif_listesi[ad] = not1\n",
        " print(sinif_listesi[ad])\n",
        "else:\n",
        " print(\"Bu öğrenci bulunamadı, lütfen geçerli bir isim girin.\")\n",
        "\n",
        "ortalama = sum(sinif_listesi.values()) / len(sinif_listesi)\n",
        "print(\"Sınıf ortalaması : \", ortalama)"
      ],
      "metadata": {
        "colab": {
          "base_uri": "https://localhost:8080/"
        },
        "id": "h0LdiStP-Rvr",
        "outputId": "a1f82cdb-42f8-4528-ef2c-2bdca34cca7e"
      },
      "execution_count": null,
      "outputs": [
        {
          "output_type": "stream",
          "name": "stdout",
          "text": [
            "Bir öğrenci ismi giriniz : Hüseyin\n",
            "Bu öğrenci listede yok.\n",
            "Bir öğrenci adı giriniz : Zeynep\n",
            "Öğrencinin notunu giriniz : 99\n",
            "99\n",
            "Sınıf ortalaması :  83.8\n"
          ]
        }
      ]
    },
    {
      "cell_type": "code",
      "source": [
        "#Bir pazarın ürün ve fiyat bilgileri aşağıdaki gibi bir sözlükte tutuluyor:\n",
        "#urunler = {\n",
        "#    \"elma\": 10,\n",
        "#    \"muz\": 15,\n",
        "#    \"çilek\": 25,\n",
        "#    \"portakal\": 12,\n",
        "#    \"kavun\": 30\n",
        "#}\n",
        "#Kullanıcıdan bir ürün adı ve bu ürünün fiyatını ekrana yazdırır. Ürün listede yoksa \"Bu ürün pazarında mevcut değil.\" mesajı göster.\n",
        "#Kullanıcıdan bir ürünün adı ve yeni fiyatını al. Ürün listede varsa fiyatını güncelle, yoksa bu ürünü sözlüğe ekle.\n",
        "#Tüm gereksiz toplam değer (stok değeri) hesapla ve ekrana yazdır.\n",
        "urunler = {\n",
        "    \"elma\": 10,\n",
        "    \"muz\": 15,\n",
        "    \"çilek\": 25,\n",
        "    \"portakal\": 12,\n",
        "    \"kavun\": 30\n",
        "}\n",
        "urun_adi = input(\"Bir ürün adı giriniz: \")\n",
        "if urun_adi in urunler:\n",
        "    print(f\"{urun_adi} 'in fiyatı: {urunler[urun_adi]} TL\")\n",
        "else:\n",
        "    print(\"Bu ürün markette bulunmamaktadır.\")\n",
        "\n",
        "urun_adi1 = input(\"Bir ürün adı giriniz: \")\n",
        "urun_fiyati = int(input(\"Ürün fiyatı giriniz: \"))\n",
        "if urun_adi1 in urunler:\n",
        "    urunler[urun_adi1] = urun_fiyati\n",
        "    print(f\"{urun_adi1} 'in fiyatı güncellendi.\")\n",
        "else:\n",
        "    urunler[urun_adi1] = urun_fiyati\n",
        "    print(urunler)\n",
        "\n",
        "toplam_fiyat = sum(urunler.values())\n",
        "print(\"Toplam ürün fiyatı: \", toplam_fiyat)"
      ],
      "metadata": {
        "id": "iamruNo7Hko4"
      },
      "execution_count": null,
      "outputs": []
    }
  ]
}